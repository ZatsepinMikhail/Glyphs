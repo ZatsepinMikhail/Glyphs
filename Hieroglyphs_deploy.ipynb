{
 "cells": [
  {
   "cell_type": "code",
   "execution_count": 1,
   "metadata": {
    "collapsed": true
   },
   "outputs": [],
   "source": [
    "import caffe\n",
    "import numpy as np\n",
    "import matplotlib.pyplot as plt\n",
    "from PIL import Image\n",
    "import os\n",
    "import caffe.draw\n",
    "from caffe.proto import caffe_pb2\n",
    "from google.protobuf import text_format\n",
    "import cv2"
   ]
  },
  {
   "cell_type": "code",
   "execution_count": 2,
   "metadata": {
    "collapsed": true
   },
   "outputs": [],
   "source": [
    "import sys\n",
    "reload(sys)\n",
    "sys.setdefaultencoding('utf-8')"
   ]
  },
  {
   "cell_type": "code",
   "execution_count": 3,
   "metadata": {
    "collapsed": true
   },
   "outputs": [],
   "source": [
    "caffe.set_mode_cpu()"
   ]
  },
  {
   "cell_type": "markdown",
   "metadata": {},
   "source": [
    "Deploy network"
   ]
  },
  {
   "cell_type": "code",
   "execution_count": 15,
   "metadata": {
    "collapsed": false
   },
   "outputs": [
    {
     "ename": "Exception",
     "evalue": "\"dot.exe\" not found in path.",
     "output_type": "error",
     "traceback": [
      "\u001b[0;31m---------------------------------------------------------------------------\u001b[0m",
      "\u001b[0;31mException\u001b[0m                                 Traceback (most recent call last)",
      "\u001b[0;32m<ipython-input-15-119f63b036a9>\u001b[0m in \u001b[0;36m<module>\u001b[0;34m()\u001b[0m\n\u001b[1;32m      5\u001b[0m \u001b[1;33m\u001b[0m\u001b[0m\n\u001b[1;32m      6\u001b[0m \u001b[0mphase\u001b[0m \u001b[1;33m=\u001b[0m \u001b[0mcaffe\u001b[0m\u001b[1;33m.\u001b[0m\u001b[0mTRAIN\u001b[0m\u001b[1;33m\u001b[0m\u001b[0m\n\u001b[0;32m----> 7\u001b[0;31m \u001b[0mcaffe\u001b[0m\u001b[1;33m.\u001b[0m\u001b[0mdraw\u001b[0m\u001b[1;33m.\u001b[0m\u001b[0mdraw_net_to_file\u001b[0m\u001b[1;33m(\u001b[0m\u001b[0mnet\u001b[0m\u001b[1;33m,\u001b[0m \u001b[0mimage_name\u001b[0m\u001b[1;33m,\u001b[0m \u001b[1;34m'LR'\u001b[0m\u001b[1;33m,\u001b[0m \u001b[0mphase\u001b[0m\u001b[1;33m)\u001b[0m\u001b[1;33m\u001b[0m\u001b[0m\n\u001b[0m",
      "\u001b[0;32mC:\\Frameworks\\caffe\\python\\caffe\\draw.pyc\u001b[0m in \u001b[0;36mdraw_net_to_file\u001b[0;34m(caffe_net, filename, rankdir, phase)\u001b[0m\n\u001b[1;32m    242\u001b[0m     \u001b[0mext\u001b[0m \u001b[1;33m=\u001b[0m \u001b[0mfilename\u001b[0m\u001b[1;33m[\u001b[0m\u001b[0mfilename\u001b[0m\u001b[1;33m.\u001b[0m\u001b[0mrfind\u001b[0m\u001b[1;33m(\u001b[0m\u001b[1;34m'.'\u001b[0m\u001b[1;33m)\u001b[0m\u001b[1;33m+\u001b[0m\u001b[1;36m1\u001b[0m\u001b[1;33m:\u001b[0m\u001b[1;33m]\u001b[0m\u001b[1;33m\u001b[0m\u001b[0m\n\u001b[1;32m    243\u001b[0m     \u001b[1;32mwith\u001b[0m \u001b[0mopen\u001b[0m\u001b[1;33m(\u001b[0m\u001b[0mfilename\u001b[0m\u001b[1;33m,\u001b[0m \u001b[1;34m'wb'\u001b[0m\u001b[1;33m)\u001b[0m \u001b[1;32mas\u001b[0m \u001b[0mfid\u001b[0m\u001b[1;33m:\u001b[0m\u001b[1;33m\u001b[0m\u001b[0m\n\u001b[0;32m--> 244\u001b[0;31m         \u001b[0mfid\u001b[0m\u001b[1;33m.\u001b[0m\u001b[0mwrite\u001b[0m\u001b[1;33m(\u001b[0m\u001b[0mdraw_net\u001b[0m\u001b[1;33m(\u001b[0m\u001b[0mcaffe_net\u001b[0m\u001b[1;33m,\u001b[0m \u001b[0mrankdir\u001b[0m\u001b[1;33m,\u001b[0m \u001b[0mext\u001b[0m\u001b[1;33m,\u001b[0m \u001b[0mphase\u001b[0m\u001b[1;33m)\u001b[0m\u001b[1;33m)\u001b[0m\u001b[1;33m\u001b[0m\u001b[0m\n\u001b[0m",
      "\u001b[0;32mC:\\Frameworks\\caffe\\python\\caffe\\draw.pyc\u001b[0m in \u001b[0;36mdraw_net\u001b[0;34m(caffe_net, rankdir, ext, phase)\u001b[0m\n\u001b[1;32m    221\u001b[0m         \u001b[0mPostscript\u001b[0m \u001b[0mrepresentation\u001b[0m \u001b[0mof\u001b[0m \u001b[0mthe\u001b[0m \u001b[0mgraph\u001b[0m\u001b[1;33m.\u001b[0m\u001b[1;33m\u001b[0m\u001b[0m\n\u001b[1;32m    222\u001b[0m     \"\"\"\n\u001b[0;32m--> 223\u001b[0;31m     \u001b[1;32mreturn\u001b[0m \u001b[0mget_pydot_graph\u001b[0m\u001b[1;33m(\u001b[0m\u001b[0mcaffe_net\u001b[0m\u001b[1;33m,\u001b[0m \u001b[0mrankdir\u001b[0m\u001b[1;33m,\u001b[0m \u001b[0mphase\u001b[0m\u001b[1;33m=\u001b[0m\u001b[0mphase\u001b[0m\u001b[1;33m)\u001b[0m\u001b[1;33m.\u001b[0m\u001b[0mcreate\u001b[0m\u001b[1;33m(\u001b[0m\u001b[0mformat\u001b[0m\u001b[1;33m=\u001b[0m\u001b[0mext\u001b[0m\u001b[1;33m)\u001b[0m\u001b[1;33m\u001b[0m\u001b[0m\n\u001b[0m\u001b[1;32m    224\u001b[0m \u001b[1;33m\u001b[0m\u001b[0m\n\u001b[1;32m    225\u001b[0m \u001b[1;33m\u001b[0m\u001b[0m\n",
      "\u001b[0;32mC:\\Users\\Mikhail\\Anaconda2\\lib\\site-packages\\pydot-1.2.2-py2.7.egg\\pydot.py\u001b[0m in \u001b[0;36mcreate\u001b[0;34m(self, prog, format)\u001b[0m\n\u001b[1;32m   1874\u001b[0m                 raise Exception(\n\u001b[1;32m   1875\u001b[0m                     '\"{prog}\" not found in path.'.format(\n\u001b[0;32m-> 1876\u001b[0;31m                         prog=prog))\n\u001b[0m\u001b[1;32m   1877\u001b[0m             \u001b[1;32melse\u001b[0m\u001b[1;33m:\u001b[0m\u001b[1;33m\u001b[0m\u001b[0m\n\u001b[1;32m   1878\u001b[0m                 \u001b[1;32mraise\u001b[0m\u001b[1;33m\u001b[0m\u001b[0m\n",
      "\u001b[0;31mException\u001b[0m: \"dot.exe\" not found in path."
     ]
    }
   ],
   "source": [
    "net = caffe_pb2.NetParameter()\n",
    "text_format.Merge(open(u'..\\\\Experiments\\\\2017.02.26_21960_font-font_1-4_-1-+1\\\\hier_autoencoder_fonts_deploy.prototxt').read(), net)\n",
    "image_name = u'..\\\\Experiments\\\\2017.02.26_21960_font-font_1-4_-1-+1\\\\hier_autoencoder_deploy.png'\n",
    "print('Drawing net to %s' % image_name)\n",
    "\n",
    "phase = caffe.TRAIN\n",
    "caffe.draw.draw_net_to_file(net, image_name, 'LR', phase)"
   ]
  },
  {
   "cell_type": "code",
   "execution_count": 4,
   "metadata": {
    "collapsed": false
   },
   "outputs": [],
   "source": [
    "net = caffe.Net('..\\\\Experiments\\\\2017.02.26_21960_font-font_1-4_-1-+1\\\\hier_autoencoder_fonts_deploy.prototxt', '..\\\\Experiments\\\\2017.02.26_21960_font-font_1-4_-1-+1\\\\_iter_20000.caffemodel', caffe.TEST)"
   ]
  },
  {
   "cell_type": "code",
   "execution_count": 5,
   "metadata": {
    "collapsed": true
   },
   "outputs": [],
   "source": [
    "shapes = [(k, v.data.shape) for k, v in net.blobs.items()]\n",
    "for shape in shapes:\n",
    "    print shape"
   ]
  },
  {
   "cell_type": "code",
   "execution_count": 7,
   "metadata": {
    "collapsed": true
   },
   "outputs": [],
   "source": [
    "def inverse(image):\n",
    "    \n",
    "    width, height = image.size\n",
    "    inverted_image = image.copy()\n",
    "    for i in range(height):\n",
    "        for j in range(width):\n",
    "            inverted_image.putpixel((i, j), (255 - image.getpixel((i, j))))\n",
    "            \n",
    "    return inverted_image"
   ]
  },
  {
   "cell_type": "code",
   "execution_count": 19,
   "metadata": {
    "collapsed": false
   },
   "outputs": [
    {
     "ename": "WindowsError",
     "evalue": "[Error 3] The system cannot find the path specified: u'C:\\\\Users\\\\Mikhail\\\\Diploma\\\\Hieroglyphs_glyphs\\\\test_fonts\\\\*.*'",
     "output_type": "error",
     "traceback": [
      "\u001b[0;31m---------------------------------------------------------------------------\u001b[0m",
      "\u001b[0;31mWindowsError\u001b[0m                              Traceback (most recent call last)",
      "\u001b[0;32m<ipython-input-19-080643d2c541>\u001b[0m in \u001b[0;36m<module>\u001b[0;34m()\u001b[0m\n\u001b[1;32m      1\u001b[0m \u001b[0mfont_directory\u001b[0m \u001b[1;33m=\u001b[0m \u001b[1;34mu'C:\\\\Users\\\\Mikhail\\\\Diploma\\\\Hieroglyphs_glyphs\\\\test_fonts\\\\'\u001b[0m\u001b[1;33m\u001b[0m\u001b[0m\n\u001b[0;32m----> 2\u001b[0;31m \u001b[0mfont_hiers\u001b[0m \u001b[1;33m=\u001b[0m \u001b[0mos\u001b[0m\u001b[1;33m.\u001b[0m\u001b[0mlistdir\u001b[0m\u001b[1;33m(\u001b[0m\u001b[0mfont_directory\u001b[0m\u001b[1;33m)\u001b[0m\u001b[1;33m\u001b[0m\u001b[0m\n\u001b[0m",
      "\u001b[0;31mWindowsError\u001b[0m: [Error 3] The system cannot find the path specified: u'C:\\\\Users\\\\Mikhail\\\\Diploma\\\\Hieroglyphs_glyphs\\\\test_fonts\\\\*.*'"
     ]
    }
   ],
   "source": [
    "font_directory = u'C:\\\\Users\\\\Mikhail\\\\Diploma\\\\Hieroglyphs_glyphs\\\\test_fonts\\\\'\n",
    "font_hiers = os.listdir(font_directory)"
   ]
  },
  {
   "cell_type": "code",
   "execution_count": 38,
   "metadata": {
    "collapsed": true
   },
   "outputs": [],
   "source": [
    "def load_font_image(hier):\n",
    "    for font_hier in font_hiers:\n",
    "        font_hier_name = int(font_hier[:font_hier.find(u'.')])\n",
    "        if font_hier_name == hier:\n",
    "            font_hier_image = Image.open(font_directory + font_hier)\n",
    "            X = np.zeros((1, 1, 23, 23), dtype='f4') \n",
    "            X[0] = font_hier_image\n",
    "            for i in range(X.shape[2]):\n",
    "                for j in range(X.shape[3]):\n",
    "                    X[0][0][i][j] = X[0][0][i][j] * 0.00392156862\n",
    "            \n",
    "            return X[0].flatten()"
   ]
  },
  {
   "cell_type": "code",
   "execution_count": 22,
   "metadata": {
    "collapsed": false
   },
   "outputs": [],
   "source": [
    "from random import shuffle\n",
    "\n",
    "#input_directory = u'C:\\\\Users\\\\Mikhail\\\\Documents\\\\Diploma\\\\Images\\\\simple_set_cropped_united_black_transformed\\\\'\n",
    "input_directory = u'C:\\\\Users\\\\Mikhail\\\\Documents\\\\Diploma\\\\Images\\\\network_inputs_black\\\\'\n",
    "#input_directory = u'C:\\\\Users\\\\Mikhail\\\\Documents\\\\Diploma\\\\Images\\\\network_inputs_black\\\\'\n",
    "\n",
    "output_dir = u'C:\\\\Users\\\\Mikhail\\\\Documents\\\\Diploma\\\\Experiments\\\\2017.02.26_21960_font-font_1-4_-1-+1\\\\gg_output_glyph\\\\'\n",
    "input_save_dir = u'C:\\\\Users\\\\Mikhail\\\\Documents\\\\Diploma\\\\Experiments\\\\2017.02.26_21960_font-font_1-4_-1-+1\\\\gg_input_glyph\\\\'\n",
    "\n",
    "import scipy.misc\n",
    "\n",
    "iteration = 0\n",
    "\n",
    "file_list = os.listdir(input_directory)\n",
    "shuffle(file_list)\n",
    "\n",
    "errors = []\n",
    "\n",
    "result_vectors = []\n",
    "\n",
    "for filename in file_list[:1000]:\n",
    "    image = Image.open(input_directory + filename)  \n",
    "    \n",
    "    inversed_image = inverse(image)\n",
    "    #inversed_image.save(input_save_dir + filename, 'BMP')\n",
    "    \n",
    "    #image.save(input_save_dir + filename, 'BMP')\n",
    "    \n",
    "    X = np.zeros((1, 1, 23, 23), dtype='f4') \n",
    "    X[0] = image\n",
    "    #print X[0], '\\n'\n",
    "    for i in range(X.shape[2]):\n",
    "        for j in range(X.shape[3]):\n",
    "            X[0][0][i][j] = (X[0][0][i][j]) * 0.00392156862\n",
    "            \n",
    "    input_vector = X[0].flatten()\n",
    "    #print \"input norm =\", np.linalg.norm(input_vector)\n",
    "    \n",
    "    net.blobs['Input'].data[...] = X[0]\n",
    "    \n",
    "    net.forward()\n",
    "    \n",
    "    #print net.blobs['Input'].data, '\\n'\n",
    "    #print net.blobs['normalization'].data, '\\n'\n",
    "    \n",
    "    result_vector = np.array(net.blobs['decode1neuron'].data, dtype='f4')\n",
    "    \n",
    "    result_vector = result_vector.flatten()\n",
    "    \n",
    "    #print \"result norm =\", np.linalg.norm(result_vector)\n",
    "    #print \"diff norm =\", np.linalg.norm(input_vector - result_vector), \"\\n\"\n",
    "    \n",
    "    #font_vector = load_font_image(int(filename[:filename.find(u'.')]))\n",
    "    #errors.append(np.linalg.norm(font_vector - result_vector))\n",
    "    \n",
    "    errors.append(np.linalg.norm(input_vector - result_vector))\n",
    "    \n",
    "    for i in range(len(result_vector)):\n",
    "        result_vector[i] = (1.0 - result_vector[i]) * 255\n",
    "        #result_vector[i] = (result_vector[i]) * 255\n",
    "    \n",
    "    result_matrix = np.reshape(result_vector, (23, 23))\n",
    "    #scipy.misc.imsave(output_dir + filename, result_matrix)\n",
    "    \n",
    "    iteration += 1"
   ]
  },
  {
   "cell_type": "code",
   "execution_count": 23,
   "metadata": {
    "collapsed": false
   },
   "outputs": [
    {
     "data": {
      "text/plain": [
       "6.766690993070602"
      ]
     },
     "execution_count": 23,
     "metadata": {},
     "output_type": "execute_result"
    }
   ],
   "source": [
    "float(sum(errors) ) / len(errors)"
   ]
  },
  {
   "cell_type": "code",
   "execution_count": 42,
   "metadata": {
    "collapsed": false
   },
   "outputs": [
    {
     "data": {
      "text/plain": [
       "5.112538835287094"
      ]
     },
     "execution_count": 42,
     "metadata": {},
     "output_type": "execute_result"
    }
   ],
   "source": [
    "float(sum(errors_train) ) / len(errors)"
   ]
  },
  {
   "cell_type": "code",
   "execution_count": 45,
   "metadata": {
    "collapsed": true
   },
   "outputs": [],
   "source": [
    "errors_test = errors"
   ]
  },
  {
   "cell_type": "code",
   "execution_count": 47,
   "metadata": {
    "collapsed": false
   },
   "outputs": [
    {
     "data": {
      "image/png": "[encoded data removed]",
      "text/plain": [
       "<matplotlib.figure.Figure at 0x13ca1fd0>"
      ]
     },
     "metadata": {},
     "output_type": "display_data"
    }
   ],
   "source": [
    "%inline\n",
    "\n",
    "import matplotlib.pyplot as plt\n",
    "\n",
    "plt.hist(errors_test, bins='auto', color='b')  # plt.hist passes it's arguments to np.histogram\n",
    "plt.savefig('glyph-font-nn.jpg')\n",
    "plt.title(\"Histogram with 'auto' bins\")\n",
    "plt.show()"
   ]
  },
  {
   "cell_type": "code",
   "execution_count": null,
   "metadata": {
    "collapsed": true
   },
   "outputs": [],
   "source": []
  }
 ],
 "metadata": {
  "kernelspec": {
   "display_name": "Python 2",
   "language": "python",
   "name": "python2"
  },
  "language_info": {
   "codemirror_mode": {
    "name": "ipython",
    "version": 2
   },
   "file_extension": ".py",
   "mimetype": "text/x-python",
   "name": "python",
   "nbconvert_exporter": "python",
   "pygments_lexer": "ipython2",
   "version": "2.7.13"
  }
 },
 "nbformat": 4,
 "nbformat_minor": 1
}
