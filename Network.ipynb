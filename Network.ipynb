{
 "cells": [
  {
   "cell_type": "code",
   "execution_count": 1,
   "metadata": {
    "collapsed": false
   },
   "outputs": [],
   "source": [
    "import caffe\n",
    "import numpy as np\n",
    "import matplotlib.pyplot as plt\n",
    "from PIL import Image\n",
    "import lmdb\n",
    "import os\n",
    "import caffe.draw\n",
    "from caffe.proto import caffe_pb2\n",
    "from google.protobuf import text_format"
   ]
  },
  {
   "cell_type": "code",
   "execution_count": 2,
   "metadata": {
    "collapsed": true
   },
   "outputs": [],
   "source": [
    "caffe.set_mode_cpu()"
   ]
  },
  {
   "cell_type": "code",
   "execution_count": 4,
   "metadata": {
    "collapsed": true
   },
   "outputs": [],
   "source": [
    "network_inputs_dir = u'E:\\\\Diploma\\\\Network_inputs\\\\'\n",
    "network_outputs_dir = u'E:\\\\Diploma\\\\Network_outputs\\\\'\n",
    "\n",
    "simhei = 'Simhei'\n",
    "simsun = 'Simsun'"
   ]
  },
  {
   "cell_type": "code",
   "execution_count": 6,
   "metadata": {
    "collapsed": false
   },
   "outputs": [
    {
     "name": "stdout",
     "output_type": "stream",
     "text": [
      "25795\n",
      "700 300\n"
     ]
    }
   ],
   "source": [
    "import random\n",
    "\n",
    "random_permutation = range(0, len(os.listdir(network_inputs_dir)))\n",
    "random.shuffle(random_permutation)\n",
    "\n",
    "print len(random_permutation)\n",
    "train_size = 700\n",
    "test_size = 300 #len(random_permutation) - train_size\n",
    "train_indices = random_permutation[:train_size]\n",
    "test_indices = random_permutation[train_size: train_size + test_size]\n",
    "print len(train_indices), len(test_indices)"
   ]
  },
  {
   "cell_type": "code",
   "execution_count": 8,
   "metadata": {
    "collapsed": false
   },
   "outputs": [],
   "source": [
    "#height, width\n",
    "def pack_lmdb(source_dir, lmdb_name, indices):\n",
    "    \n",
    "    dataset = lmdb.open(lmdb_name)\n",
    "    with dataset.begin(write=True) as ds:\n",
    "        filenames = os.listdir(source_dir)\n",
    "        for index in indices:\n",
    "            image = np.array(Image.open(source_dir + filenames[index])).astype(np.uint8)\n",
    "            image = image[np.newaxis]\n",
    "            image_raw = caffe.io.array_to_datum(image)\n",
    "            ds.put('{:0>10d}'.format(index), image_raw.SerializeToString())\n",
    "    dataset.close()"
   ]
  },
  {
   "cell_type": "code",
   "execution_count": 9,
   "metadata": {
    "collapsed": false
   },
   "outputs": [],
   "source": [
    "pack_lmdb(network_outputs_dir + simhei + '\\\\', 'label_simhei_train', train_indices)\n",
    "pack_lmdb(network_inputs_dir, 'data_train', train_indices)\n",
    "pack_lmdb(network_outputs_dir + simhei + '\\\\', 'label_simhei_test', test_indices)\n",
    "pack_lmdb(network_inputs_dir, 'data_test', test_indices)"
   ]
  },
  {
   "cell_type": "code",
   "execution_count": 11,
   "metadata": {
    "collapsed": false
   },
   "outputs": [
    {
     "name": "stdout",
     "output_type": "stream",
     "text": [
      "Drawing net to my_net.png\n"
     ]
    }
   ],
   "source": [
    "net = caffe_pb2.NetParameter()\n",
    "text_format.Merge(open('net_glyph.prototxt').read(), net)\n",
    "print('Drawing net to %s' % 'my_net.png')\n",
    "\n",
    "phase = caffe.TRAIN\n",
    "caffe.draw.draw_net_to_file(net, 'my_net.png', 'LR', phase)"
   ]
  },
  {
   "cell_type": "code",
   "execution_count": 3,
   "metadata": {
    "collapsed": false
   },
   "outputs": [],
   "source": [
    "net = caffe.Net('net_glyph.prototxt', caffe.TRAIN)"
   ]
  },
  {
   "cell_type": "code",
   "execution_count": null,
   "metadata": {
    "collapsed": false
   },
   "outputs": [],
   "source": [
    "solver = caffe.SGDSolver('solver_glyph.prototxt')"
   ]
  },
  {
   "cell_type": "code",
   "execution_count": null,
   "metadata": {
    "collapsed": true
   },
   "outputs": [],
   "source": []
  },
  {
   "cell_type": "code",
   "execution_count": null,
   "metadata": {
    "collapsed": true
   },
   "outputs": [],
   "source": []
  }
 ],
 "metadata": {
  "kernelspec": {
   "display_name": "Python 2",
   "language": "python",
   "name": "python2"
  },
  "language_info": {
   "codemirror_mode": {
    "name": "ipython",
    "version": 2
   },
   "file_extension": ".py",
   "mimetype": "text/x-python",
   "name": "python",
   "nbconvert_exporter": "python",
   "pygments_lexer": "ipython2",
   "version": "2.7.12"
  }
 },
 "nbformat": 4,
 "nbformat_minor": 1
}
