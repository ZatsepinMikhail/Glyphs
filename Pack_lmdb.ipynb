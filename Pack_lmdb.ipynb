{
 "cells": [
  {
   "cell_type": "code",
   "execution_count": 9,
   "metadata": {
    "collapsed": false
   },
   "outputs": [],
   "source": [
    "import numpy as np\n",
    "import lmdb\n",
    "import caffe\n",
    "import os\n",
    "import random\n",
    "from PIL import Image"
   ]
  },
  {
   "cell_type": "code",
   "execution_count": 10,
   "metadata": {
    "collapsed": true
   },
   "outputs": [],
   "source": [
    "network_inputs_dir = u'C:\\\\Users\\\\Mikhail\\\\Documents\\\\Diploma\\\\Images\\\\simple_set_cropped_united_black_transformed\\\\'\n",
    "network_outputs_dir = u'C:\\\\Users\\\\Mikhail\\\\Documents\\\\Diploma\\\\Images\\\\simple_set_cropped_united_black_transformed\\\\'\n",
    "image_size = 23"
   ]
  },
  {
   "cell_type": "code",
   "execution_count": 11,
   "metadata": {
    "collapsed": true
   },
   "outputs": [],
   "source": [
    "import sys\n",
    "reload(sys)\n",
    "sys.setdefaultencoding('utf-8')"
   ]
  },
  {
   "cell_type": "code",
   "execution_count": 12,
   "metadata": {
    "collapsed": true
   },
   "outputs": [],
   "source": [
    "N_inputs = len(os.listdir(network_inputs_dir))\n",
    "N_outputs = len(os.listdir(network_outputs_dir))\n",
    "N = N_inputs"
   ]
  },
  {
   "cell_type": "code",
   "execution_count": 13,
   "metadata": {
    "collapsed": true
   },
   "outputs": [],
   "source": [
    "random_permutation = range(0, N)\n",
    "random.shuffle(random_permutation)"
   ]
  },
  {
   "cell_type": "code",
   "execution_count": 14,
   "metadata": {
    "collapsed": false
   },
   "outputs": [],
   "source": [
    "def pack_lmdb(source_dir, label, normalize):\n",
    "    \n",
    "    inputs = os.listdir(source_dir)\n",
    "    \n",
    "    train_size = int(0.7 * N)\n",
    "    train_indices = random_permutation[:train_size]\n",
    "    test_indices = random_permutation[train_size:]\n",
    "    \n",
    "    X_train = np.zeros((train_size, 1, image_size, image_size), dtype=np.uint8)\n",
    "    y_train = np.zeros(train_size, dtype=np.int64)\n",
    "    \n",
    "    X_test = np.zeros((N - train_size, 1, image_size, image_size), dtype=np.uint8)\n",
    "    y_test = np.zeros(N - train_size, dtype=np.int64)\n",
    "\n",
    "    # We need to prepare the database for the size. We'll set it 10 times\n",
    "    # greater than what we theoretically need. There is little drawback to\n",
    "    # setting this too big. If you still run into problem after raising\n",
    "    # this, you might want to try saving fewer entries in a single\n",
    "    # transaction\n",
    "    \n",
    "    filenames = inputs\n",
    "    filenames_train = [filenames[i] for i in train_indices]\n",
    "    filenames_test = [filenames[i] for i in test_indices]\n",
    "    \n",
    "    for file_index in range(len(filenames_train)):\n",
    "        image = np.array(Image.open(source_dir + filenames_train[file_index])).astype(np.uint8)\n",
    "        image = image[np.newaxis]\n",
    "        X_train[file_index] = image\n",
    "        \n",
    "        #if normalize:\n",
    "        #    X_train[file_index] = X_train[file_index] * 2 - 255\n",
    "        \n",
    "        y_train[file_index] = file_index\n",
    "        \n",
    "    for file_index in range(len(filenames_test)):\n",
    "        image = np.array(Image.open(source_dir + filenames_test[file_index])).astype(np.uint8)\n",
    "        image = image[np.newaxis]\n",
    "        X_test[file_index] = image\n",
    "        \n",
    "        #if normalize:\n",
    "        #    X_test[file_index] = X_test[file_index] * 2 - 255\n",
    "        \n",
    "        y_test[file_index] = file_index\n",
    "    \n",
    "    train = lmdb.open('train_lmdb_1_4_' + label, map_size=X_train.nbytes * 4)    \n",
    "    with train.begin(write=True) as txn:\n",
    "        # txn is a Transaction object\n",
    "        for i in range(len(train_indices)):\n",
    "            datum = caffe.proto.caffe_pb2.Datum()\n",
    "            datum.channels = X_train.shape[1]\n",
    "            datum.height = X_train.shape[2]\n",
    "            datum.width = X_train.shape[3]\n",
    "            datum.data = X_train[i].tobytes()  # or .tostring() if numpy < 1.9\n",
    "            datum.label = int(y_train[i])\n",
    "            str_id = '{:08}'.format(i)\n",
    "            txn.put(str_id.encode('ascii'), datum.SerializeToString())\n",
    "    \n",
    "    test = lmdb.open('test_lmdb_1_4_' + label, map_size=X_test.nbytes * 4)    \n",
    "    with test.begin(write=True) as txn:\n",
    "        # txn is a Transaction object\n",
    "        for i in range(len(test_indices)):\n",
    "            datum = caffe.proto.caffe_pb2.Datum()\n",
    "            datum.channels = X_test.shape[1]\n",
    "            datum.height = X_test.shape[2]\n",
    "            datum.width = X_test.shape[3]\n",
    "            datum.data = X_test[i].tobytes()  # or .tostring() if numpy < 1.9\n",
    "            datum.label = int(y_test[i])\n",
    "            str_id = '{:08}'.format(i)\n",
    "            txn.put(str_id.encode('ascii'), datum.SerializeToString())"
   ]
  },
  {
   "cell_type": "code",
   "execution_count": 15,
   "metadata": {
    "collapsed": true
   },
   "outputs": [],
   "source": [
    "pack_lmdb(network_inputs_dir, 'glyphs', False)"
   ]
  },
  {
   "cell_type": "code",
   "execution_count": 16,
   "metadata": {
    "collapsed": true
   },
   "outputs": [],
   "source": [
    "pack_lmdb(network_outputs_dir, 'fonts', False)"
   ]
  },
  {
   "cell_type": "code",
   "execution_count": 23,
   "metadata": {
    "collapsed": false
   },
   "outputs": [],
   "source": [
    "N = len(os.listdir(network_inputs_dir))\n",
    "\n",
    "inputs = os.listdir(network_inputs_dir)\n",
    "outputs = os.listdir(network_outputs_dir)\n",
    "\n",
    "errors = []\n",
    "\n",
    "for index in range(N):\n",
    "    input_image = np.array(Image.open(network_inputs_dir + inputs[index])).astype(np.uint8)\n",
    "    output_image = np.array(Image.open(network_outputs_dir + inputs[index])).astype(np.uint8)\n",
    "    input_image = input_image.flatten()\n",
    "    output_image = output_image.flatten()\n",
    "    input_image = input_image * 0.0039215684\n",
    "    output_image = output_image * 0.0039215684\n",
    "    errors.append(np.linalg.norm(input_image - output_image))"
   ]
  },
  {
   "cell_type": "code",
   "execution_count": 24,
   "metadata": {
    "collapsed": true
   },
   "outputs": [],
   "source": [
    "print sum(errors) / len(errors)"
   ]
  },
  {
   "cell_type": "code",
   "execution_count": 25,
   "metadata": {
    "collapsed": true
   },
   "outputs": [],
   "source": [
    "print min(errors)"
   ]
  },
  {
   "cell_type": "code",
   "execution_count": 26,
   "metadata": {
    "collapsed": true
   },
   "outputs": [],
   "source": [
    "print max(errors)"
   ]
  },
  {
   "cell_type": "code",
   "execution_count": 27,
   "metadata": {
    "collapsed": false
   },
   "outputs": [
    {
     "data": {
      "image/png": "[encoded data removed]",
      "text/plain": [
       "<matplotlib.figure.Figure at 0x10ee7dd8>"
      ]
     },
     "metadata": {},
     "output_type": "display_data"
    }
   ],
   "source": [
    "%inline\n",
    "\n",
    "import matplotlib.pyplot as plt\n",
    "\n",
    "plt.hist(errors, bins='auto')  # plt.hist passes it's arguments to np.histogram\n",
    "plt.title(\"Histogram with 'auto' bins\")\n",
    "plt.show()"
   ]
  },
  {
   "cell_type": "code",
   "execution_count": 28,
   "metadata": {
    "collapsed": true
   },
   "outputs": [],
   "source": [
    "N = len(os.listdir(network_inputs_dir))\n",
    "\n",
    "inputs = os.listdir(network_inputs_dir)\n",
    "outputs = os.listdir(network_outputs_dir)\n",
    "\n",
    "random_permutation = range(0, N)\n",
    "random.shuffle(random_permutation)\n",
    "\n",
    "errors = []\n",
    "\n",
    "for index in range(N):\n",
    "    input_image = np.array(Image.open(network_inputs_dir + inputs[index])).astype(np.uint8)\n",
    "    output_image = np.array(Image.open(network_outputs_dir + inputs[random_permutation[index]])).astype(np.uint8)\n",
    "    input_image = input_image.flatten()\n",
    "    output_image = output_image.flatten()\n",
    "    input_image = input_image * 0.0039215684\n",
    "    output_image = output_image * 0.0039215684\n",
    "    errors.append(np.linalg.norm(input_image - output_image))"
   ]
  },
  {
   "cell_type": "code",
   "execution_count": 29,
   "metadata": {
    "collapsed": false
   },
   "outputs": [
    {
     "data": {
      "image/png": "[encoded data removed]",
      "text/plain": [
       "<matplotlib.figure.Figure at 0x1516a9e8>"
      ]
     },
     "metadata": {},
     "output_type": "display_data"
    }
   ],
   "source": [
    "%inline\n",
    "\n",
    "plt.hist(errors, bins='auto')  # plt.hist passes it's arguments to np.histogram\n",
    "plt.title(\"Histogram with 'auto' bins\")\n",
    "plt.show()"
   ]
  },
  {
   "cell_type": "code",
   "execution_count": 33,
   "metadata": {
    "collapsed": true
   },
   "outputs": [],
   "source": [
    "for index in range(N):\n",
    "    if inputs[index] != outputs[index]:\n",
    "        print 'Error'"
   ]
  },
  {
   "cell_type": "code",
   "execution_count": 30,
   "metadata": {
    "collapsed": true
   },
   "outputs": [],
   "source": [
    "import caffe\n",
    "import lmdb"
   ]
  },
  {
   "cell_type": "code",
   "execution_count": 37,
   "metadata": {
    "collapsed": false
   },
   "outputs": [],
   "source": [
    "train_inputs = []\n",
    "train_input_labels = []\n",
    "\n",
    "lmdb_env = lmdb.open(u'C:\\\\Users\\\\Mikhail\\\\Diploma\\\\Hieroglyphs_glyphs\\\\train_lmdb_glyphs')\n",
    "lmdb_txn = lmdb_env.begin()\n",
    "lmdb_cursor = lmdb_txn.cursor()\n",
    "datum = caffe.proto.caffe_pb2.Datum()\n",
    "\n",
    "for key, value in lmdb_cursor:\n",
    "    datum.ParseFromString(value)\n",
    "    label = datum.label\n",
    "    data = caffe.io.datum_to_array(datum)\n",
    "    train_inputs.append(data)\n",
    "    train_input_labels.append(label)"
   ]
  },
  {
   "cell_type": "code",
   "execution_count": 38,
   "metadata": {
    "collapsed": true
   },
   "outputs": [],
   "source": [
    "test_inputs = []\n",
    "test_input_labels = []\n",
    "\n",
    "lmdb_env = lmdb.open(u'C:\\\\Users\\\\Mikhail\\\\Diploma\\\\Hieroglyphs_glyphs\\\\test_lmdb_glyphs')\n",
    "lmdb_txn = lmdb_env.begin()\n",
    "lmdb_cursor = lmdb_txn.cursor()\n",
    "datum = caffe.proto.caffe_pb2.Datum()\n",
    "\n",
    "for key, value in lmdb_cursor:\n",
    "    datum.ParseFromString(value)\n",
    "    label = datum.label\n",
    "    data = caffe.io.datum_to_array(datum)\n",
    "    test_inputs.append(data)\n",
    "    test_input_labels.append(label)"
   ]
  },
  {
   "cell_type": "code",
   "execution_count": 39,
   "metadata": {
    "collapsed": false
   },
   "outputs": [],
   "source": [
    "train_outputs = []\n",
    "train_output_labels = []\n",
    "\n",
    "lmdb_env = lmdb.open(u'C:\\\\Users\\\\Mikhail\\\\Diploma\\\\Hieroglyphs_glyphs\\\\train_lmdb_fonts')\n",
    "lmdb_txn = lmdb_env.begin()\n",
    "lmdb_cursor = lmdb_txn.cursor()\n",
    "datum = caffe.proto.caffe_pb2.Datum()\n",
    "\n",
    "for key, value in lmdb_cursor:\n",
    "    datum.ParseFromString(value)\n",
    "    label = datum.label\n",
    "    data = caffe.io.datum_to_array(datum)\n",
    "    train_outputs.append(data)\n",
    "    train_output_labels.append(label)"
   ]
  },
  {
   "cell_type": "code",
   "execution_count": 40,
   "metadata": {
    "collapsed": true
   },
   "outputs": [],
   "source": [
    "test_outputs = []\n",
    "test_output_labels = []\n",
    "\n",
    "lmdb_env = lmdb.open(u'C:\\\\Users\\\\Mikhail\\\\Diploma\\\\Hieroglyphs_glyphs\\\\test_lmdb_fonts')\n",
    "lmdb_txn = lmdb_env.begin()\n",
    "lmdb_cursor = lmdb_txn.cursor()\n",
    "datum = caffe.proto.caffe_pb2.Datum()\n",
    "\n",
    "for key, value in lmdb_cursor:\n",
    "    datum.ParseFromString(value)\n",
    "    label = datum.label\n",
    "    data = caffe.io.datum_to_array(datum)\n",
    "    test_outputs.append(data)\n",
    "    test_output_labels.append(label)"
   ]
  },
  {
   "cell_type": "code",
   "execution_count": 20,
   "metadata": {
    "collapsed": true
   },
   "outputs": [],
   "source": [
    "for index in range(len(outputs)):\n",
    "    if input_labels[index] != output_labels[index]:\n",
    "        print 'Error'"
   ]
  },
  {
   "cell_type": "code",
   "execution_count": 21,
   "metadata": {
    "collapsed": true
   },
   "outputs": [],
   "source": [
    "import scipy.misc"
   ]
  },
  {
   "cell_type": "code",
   "execution_count": 22,
   "metadata": {
    "collapsed": false
   },
   "outputs": [
    {
     "data": {
      "text/plain": [
       "(1L, 23L, 23L)"
      ]
     },
     "execution_count": 22,
     "metadata": {},
     "output_type": "execute_result"
    }
   ],
   "source": [
    "inputs[0].shape"
   ]
  },
  {
   "cell_type": "code",
   "execution_count": 24,
   "metadata": {
    "collapsed": false
   },
   "outputs": [],
   "source": [
    "directory = 'test_glyphs\\\\'\n",
    "\n",
    "for index in range(len(inputs)):\n",
    "    scipy.misc.imsave(directory + str(input_labels[index]) + '.jpg', inputs[index][0])"
   ]
  },
  {
   "cell_type": "code",
   "execution_count": 35,
   "metadata": {
    "collapsed": true
   },
   "outputs": [],
   "source": [
    "errors = []"
   ]
  },
  {
   "cell_type": "code",
   "execution_count": 49,
   "metadata": {
    "collapsed": false
   },
   "outputs": [
    {
     "name": "stdout",
     "output_type": "stream",
     "text": [
      "0.0\n"
     ]
    }
   ],
   "source": [
    "for index in range(len(train_outputs)):\n",
    "    cur_input = train_inputs[index].flatten()\n",
    "    cur_output = train_outputs[index].flatten()\n",
    "    \n",
    "    cur_input = cur_input * 0.0039215684\n",
    "    cur_output = cur_output * 0.0039215684\n",
    "    \n",
    "    errors.append(np.linalg.norm(cur_input - cur_output))\n",
    "    \n",
    "for index in range(len(test_outputs)):\n",
    "    cur_input = test_inputs[index].flatten()\n",
    "    cur_output = test_outputs[index].flatten()\n",
    "    \n",
    "    cur_input = cur_input * 0.0039215684\n",
    "    cur_output = cur_output * 0.0039215684\n",
    "    \n",
    "    errors.append(np.linalg.norm(cur_input - cur_output))"
   ]
  },
  {
   "cell_type": "code",
   "execution_count": 46,
   "metadata": {
    "collapsed": false
   },
   "outputs": [
    {
     "name": "stderr",
     "output_type": "stream",
     "text": [
      "ERROR:root:Line magic function `%inline` not found.\n"
     ]
    },
    {
     "data": {
      "image/png": "[encoded data removed]",
      "text/plain": [
       "<matplotlib.figure.Figure at 0x37c8da0>"
      ]
     },
     "metadata": {},
     "output_type": "display_data"
    }
   ],
   "source": [
    "%inline\n",
    "\n",
    "import matplotlib.pyplot as plt\n",
    "\n",
    "plt.hist(errors, bins='auto')  # plt.hist passes it's arguments to np.histogram\n",
    "plt.title(\"Histogram with 'auto' bins\")\n",
    "plt.savefig('glyph-font.jpg')\n",
    "plt.show()"
   ]
  },
  {
   "cell_type": "code",
   "execution_count": 45,
   "metadata": {
    "collapsed": false
   },
   "outputs": [],
   "source": [
    "plt.savefig('glyph-font.jpg')"
   ]
  },
  {
   "cell_type": "code",
   "execution_count": null,
   "metadata": {
    "collapsed": true
   },
   "outputs": [],
   "source": []
  }
 ],
 "metadata": {
  "kernelspec": {
   "display_name": "Python 2",
   "language": "python",
   "name": "python2"
  },
  "language_info": {
   "codemirror_mode": {
    "name": "ipython",
    "version": 2
   },
   "file_extension": ".py",
   "mimetype": "text/x-python",
   "name": "python",
   "nbconvert_exporter": "python",
   "pygments_lexer": "ipython2",
   "version": "2.7.13"
  }
 },
 "nbformat": 4,
 "nbformat_minor": 1
}
