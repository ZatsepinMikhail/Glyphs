{
 "cells": [
  {
   "cell_type": "code",
   "execution_count": 1,
   "metadata": {
    "collapsed": true
   },
   "outputs": [],
   "source": [
    "import caffe\n",
    "import numpy as np\n",
    "import matplotlib.pyplot as plt\n",
    "from PIL import Image\n",
    "import cv\n",
    "import os\n",
    "from PIL import ImageFont, ImageDraw, Image\n",
    "import shutil"
   ]
  },
  {
   "cell_type": "code",
   "execution_count": 2,
   "metadata": {
    "collapsed": true
   },
   "outputs": [],
   "source": [
    "image_mode = 'L'\n",
    "image_size = 23\n",
    "\n",
    "input_dir = u'C:\\\\Users\\\\Mikhail\\\\Diploma\\\\Hieroglyphs1_4\\\\simple_set_fonts\\\\'\n",
    "output_dir = u'C:\\\\Users\\\\Mikhail\\\\Diploma\\\\Hieroglyphs1_4\\\\simple_set_united\\\\'"
   ]
  },
  {
   "cell_type": "code",
   "execution_count": 3,
   "metadata": {
    "collapsed": true
   },
   "outputs": [],
   "source": [
    "from os import walk\n",
    "\n",
    "def consolidate(input_dir, output_dir):\n",
    "    cur_index = 0\n",
    "    for (dirpath, dirnames, filenames) in walk(input_dir):\n",
    "        for filename in filenames:\n",
    "            shutil.copyfile(dirpath + u'\\\\' + filename, output_dir + filename[:filename.find('.')] + '#' + str(cur_index) + '.bmp')\n",
    "            cur_index = cur_index + 1"
   ]
  },
  {
   "cell_type": "code",
   "execution_count": 4,
   "metadata": {
    "collapsed": false
   },
   "outputs": [],
   "source": [
    "consolidate(input_dir, output_dir)"
   ]
  },
  {
   "cell_type": "code",
   "execution_count": 5,
   "metadata": {
    "collapsed": true
   },
   "outputs": [],
   "source": [
    "input_dir = u'C:\\\\Users\\\\Mikhail\\\\Diploma\\\\Hieroglyphs1_4\\\\simple_set_united\\\\'\n",
    "output_dir = u'C:\\\\Users\\\\Mikhail\\\\Diploma\\\\Hieroglyphs1_4\\\\simple_set_united_black\\\\'"
   ]
  },
  {
   "cell_type": "code",
   "execution_count": 22,
   "metadata": {
    "collapsed": true
   },
   "outputs": [],
   "source": [
    "import sys\n",
    "reload(sys)\n",
    "sys.setdefaultencoding('utf-8')"
   ]
  },
  {
   "cell_type": "code",
   "execution_count": 7,
   "metadata": {
    "collapsed": true
   },
   "outputs": [],
   "source": [
    "def inverse(input_dir, output_dir):\n",
    "    cur_index = 0\n",
    "    for filename in os.listdir(input_dir):\n",
    "        image = Image.open(input_dir + filename)\n",
    "        width, height = image.size\n",
    "        for i in range(height):\n",
    "            for j in range(width):\n",
    "                image.putpixel((i, j), (255 - image.getpixel((i,j))))\n",
    "        image.save(output_dir + filename, 'BMP')\n",
    "        cur_index = cur_index + 1\n",
    "        if cur_index % 5000 == 0:\n",
    "            print cur_index"
   ]
  },
  {
   "cell_type": "code",
   "execution_count": 8,
   "metadata": {
    "collapsed": false
   },
   "outputs": [],
   "source": [
    "inverse(input_dir, output_dir)"
   ]
  },
  {
   "cell_type": "code",
   "execution_count": 10,
   "metadata": {
    "collapsed": true
   },
   "outputs": [],
   "source": [
    "def vert_sym(image):\n",
    "    \n",
    "    width, height = image.size\n",
    "    vert_sym_image = image.copy()\n",
    "    for i in range(height):\n",
    "        for j in range(width):\n",
    "            vert_sym_image.putpixel((i, j), (image.getpixel((width - i - 1, j))))\n",
    "            \n",
    "    return vert_sym_image"
   ]
  },
  {
   "cell_type": "code",
   "execution_count": 11,
   "metadata": {
    "collapsed": true
   },
   "outputs": [],
   "source": [
    "def horizon_sym(image):\n",
    "    \n",
    "    width, height = image.size\n",
    "    horizon_sym_image = image.copy()\n",
    "    for i in range(height):\n",
    "        for j in range(width):\n",
    "            horizon_sym_image.putpixel((i, j), (image.getpixel((i, height - j - 1))))\n",
    "            \n",
    "    return horizon_sym_image"
   ]
  },
  {
   "cell_type": "code",
   "execution_count": 12,
   "metadata": {
    "collapsed": true
   },
   "outputs": [],
   "source": [
    "def rotate_180(image):\n",
    "    width, height = image.size\n",
    "    rotated_sym_image = image.copy()\n",
    "    for i in range(height):\n",
    "        for j in range(width):\n",
    "            rotated_sym_image.putpixel((i, j), (image.getpixel((width - i - 1, height - j - 1))))\n",
    "            \n",
    "    return rotated_sym_image"
   ]
  },
  {
   "cell_type": "code",
   "execution_count": 34,
   "metadata": {
    "collapsed": true
   },
   "outputs": [],
   "source": [
    "def rotate_90(image):\n",
    "    width, height = image.size\n",
    "    rotated_sym_image = image.copy()\n",
    "    for i in range(height):\n",
    "        for j in range(width):\n",
    "            rotated_sym_image.putpixel((i, j), (image.getpixel((height - j - 1, i))))\n",
    "            \n",
    "    return rotated_sym_image"
   ]
  },
  {
   "cell_type": "code",
   "execution_count": 13,
   "metadata": {
    "collapsed": true
   },
   "outputs": [],
   "source": [
    "def rotate_270 (image):\n",
    "    width, height = image.size\n",
    "    rotated_sym_image = image.copy()\n",
    "    for i in range(height):\n",
    "        for j in range(width):\n",
    "            rotated_sym_image.putpixel((i, j), (image.getpixel((j, height - i - 1))))\n",
    "            \n",
    "    return rotated_sym_image"
   ]
  },
  {
   "cell_type": "code",
   "execution_count": 41,
   "metadata": {
    "collapsed": false
   },
   "outputs": [],
   "source": [
    "def transform(input_dir, output_dir):\n",
    "    cur_index = 0\n",
    "    for filename in os.listdir(input_dir):\n",
    "        image = Image.open(input_dir + filename)\n",
    "        \n",
    "        filename_without_extension = filename[:filename.find('.')]\n",
    "        \n",
    "        image.save(output_dir + filename, 'BMP')\n",
    "        vert_sym(image).save(output_dir + filename_without_extension + '_v.bmp', 'BMP')\n",
    "        horizon_sym(image).save(output_dir + filename_without_extension + '_h.bmp', 'BMP')\n",
    "        rotate_90(image).save(output_dir + filename_without_extension + '_r90.bmp', 'BMP')\n",
    "        rotate_180(image).save(output_dir + filename_without_extension + '_r180.bmp', 'BMP')\n",
    "        rotate_270(image).save(output_dir + filename_without_extension + '_r270.bmp', 'BMP')\n",
    "        \n",
    "        cur_index += 1\n",
    "        if cur_index % 500 == 0:\n",
    "            print cur_index"
   ]
  },
  {
   "cell_type": "code",
   "execution_count": 42,
   "metadata": {
    "collapsed": true
   },
   "outputs": [],
   "source": [
    "input_dir = u'C:\\\\Users\\\\Mikhail\\\\Diploma\\\\Hieroglyphs1_4\\\\simple_set_united_black\\\\'\n",
    "output_dir = u'C:\\\\Users\\\\Mikhail\\\\Diploma\\\\Hieroglyphs1_4\\\\simple_set_united_black_transform\\\\'"
   ]
  },
  {
   "cell_type": "code",
   "execution_count": 43,
   "metadata": {
    "collapsed": false
   },
   "outputs": [],
   "source": [
    "transform(input_dir, output_dir)"
   ]
  }
 ],
 "metadata": {
  "kernelspec": {
   "display_name": "Python 2",
   "language": "python",
   "name": "python2"
  },
  "language_info": {
   "codemirror_mode": {
    "name": "ipython",
    "version": 2
   },
   "file_extension": ".py",
   "mimetype": "text/x-python",
   "name": "python",
   "nbconvert_exporter": "python",
   "pygments_lexer": "ipython2",
   "version": "2.7.12"
  }
 },
 "nbformat": 4,
 "nbformat_minor": 1
}
