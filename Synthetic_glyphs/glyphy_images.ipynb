{
 "cells": [
  {
   "cell_type": "code",
   "execution_count": 1,
   "metadata": {
    "collapsed": true
   },
   "outputs": [],
   "source": [
    "import caffe\n",
    "import numpy as np\n",
    "import matplotlib.pyplot as plt\n",
    "from PIL import Image\n",
    "import cv\n",
    "import os\n",
    "from PIL import ImageFont, ImageDraw, Image\n",
    "import shutil"
   ]
  },
  {
   "cell_type": "code",
   "execution_count": 2,
   "metadata": {
    "collapsed": true
   },
   "outputs": [],
   "source": [
    "import sys\n",
    "reload(sys)\n",
    "sys.setdefaultencoding('utf-8')"
   ]
  },
  {
   "cell_type": "code",
   "execution_count": 3,
   "metadata": {
    "collapsed": true
   },
   "outputs": [],
   "source": [
    "input_dir = u'C:\\\\Users\\\\Mikhail\\\\Diploma\\\\Hieroglyphs2\\\\simple_set_united\\\\'\n",
    "output_dir = u'C:\\\\Users\\\\Mikhail\\\\Diploma\\\\Synthetic_glyphs\\\\glyphied_images\\\\'"
   ]
  },
  {
   "cell_type": "code",
   "execution_count": 22,
   "metadata": {
    "collapsed": true
   },
   "outputs": [],
   "source": [
    "def prepare_dir(dir_name):\n",
    "    if os.path.exists(dir_name):\n",
    "        shutil.rmtree(dir_name)\n",
    "    \n",
    "    os.makedirs(dir_name)"
   ]
  },
  {
   "cell_type": "code",
   "execution_count": 111,
   "metadata": {
    "collapsed": true
   },
   "outputs": [],
   "source": [
    "def get_borders(i, j, width, height, step):\n",
    "    start_i = max(0, i - (step + 1) / 2 + 1)\n",
    "    stop_i = min(width - 1, i + step / 2) + 1\n",
    "    start_j = max(0, j - (step + 1) / 2 + 1)\n",
    "    stop_j = min(height - 1, j + step / 2) + 1\n",
    "    return ((start_i, stop_i), (start_j, stop_j))"
   ]
  },
  {
   "cell_type": "code",
   "execution_count": 112,
   "metadata": {
    "collapsed": true
   },
   "outputs": [],
   "source": [
    "def surrounding_has_black(i, j, image, step):\n",
    "    width, height = image.size\n",
    "    \n",
    "    borders = get_borders(i, j, width, height, step)\n",
    "    \n",
    "    total_sum = 0\n",
    "    for i in xrange(borders[0][0], borders[0][1]):\n",
    "        for j in xrange(borders[1][0], borders[1][1]):\n",
    "            total_sum += 255 - image.getpixel((i,j))\n",
    "    \n",
    "    threshold = 255\n",
    "    return total_sum >= threshold"
   ]
  },
  {
   "cell_type": "code",
   "execution_count": 167,
   "metadata": {
    "collapsed": false
   },
   "outputs": [],
   "source": [
    "import random\n",
    "\n",
    "def glyphy_one_image(image):\n",
    "\n",
    "    glyph = Image.new('L', image.size, color=255)\n",
    "    width, height = image.size\n",
    "    \n",
    "    step = 2\n",
    "    for i in xrange(0, width, step):\n",
    "        for j in xrange(0, height, step):\n",
    "            if surrounding_has_black(i, j, image, step):\n",
    "                glyph.putpixel((i, j), (int(min(255, max(0, random.gauss(0, 20))))))\n",
    "                borders = get_borders(i, j, width, height, step)\n",
    "                random_i = random.randint(borders[0][0], borders[0][1] - 1)\n",
    "                random_j = random.randint(borders[1][0], borders[1][1] - 1)\n",
    "                if (random_i != i) or (random_j != j):\n",
    "                    glyph.putpixel((random_i, random_j), (int(min(255, max(0, random.gauss(0, 20))))))\n",
    "                #for sur_i in xrange(borders[0][0], borders[0][1]):\n",
    "                #    for sur_j in xrange(borders[1][0], borders[1][1]):\n",
    "                #        if (sur_i != i) or (sur_j != j):\n",
    "                #            glyph.putpixel((sur_i, sur_j), (int(max(0, min(255, random.gauss(255, 50))))))\n",
    "                \n",
    "    return glyph"
   ]
  },
  {
   "cell_type": "code",
   "execution_count": 168,
   "metadata": {
    "collapsed": true
   },
   "outputs": [],
   "source": [
    "def glyphy_images(input_dir, output_dir):\n",
    "    counter = 0\n",
    "    for filename in os.listdir(input_dir):\n",
    "        image = Image.open(input_dir + filename)\n",
    "        glyphied_image = glyphy_one_image(image)\n",
    "        glyphied_image.save(output_dir + filename, 'BMP')\n",
    "        counter += 1\n",
    "        if counter == 100:\n",
    "            break"
   ]
  },
  {
   "cell_type": "code",
   "execution_count": 169,
   "metadata": {
    "collapsed": false
   },
   "outputs": [],
   "source": [
    "prepare_dir(output_dir)\n",
    "glyphy_images(input_dir, output_dir)"
   ]
  },
  {
   "cell_type": "code",
   "execution_count": null,
   "metadata": {
    "collapsed": true
   },
   "outputs": [],
   "source": []
  }
 ],
 "metadata": {
  "kernelspec": {
   "display_name": "Python 2",
   "language": "python",
   "name": "python2"
  },
  "language_info": {
   "codemirror_mode": {
    "name": "ipython",
    "version": 2
   },
   "file_extension": ".py",
   "mimetype": "text/x-python",
   "name": "python",
   "nbconvert_exporter": "python",
   "pygments_lexer": "ipython2",
   "version": "2.7.12"
  }
 },
 "nbformat": 4,
 "nbformat_minor": 1
}
