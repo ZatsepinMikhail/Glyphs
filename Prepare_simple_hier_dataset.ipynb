{
 "cells": [
  {
   "cell_type": "code",
   "execution_count": 11,
   "metadata": {
    "collapsed": true
   },
   "outputs": [],
   "source": [
    "import caffe\n",
    "import numpy as np\n",
    "import matplotlib.pyplot as plt\n",
    "from PIL import Image\n",
    "import cv\n",
    "import os\n",
    "from PIL import ImageFont, ImageDraw, Image\n",
    "import shutil\n",
    "from sets import Set"
   ]
  },
  {
   "cell_type": "code",
   "execution_count": 2,
   "metadata": {
    "collapsed": true
   },
   "outputs": [],
   "source": [
    "import sys\n",
    "reload(sys)\n",
    "sys.setdefaultencoding('utf-8')"
   ]
  },
  {
   "cell_type": "code",
   "execution_count": 3,
   "metadata": {
    "collapsed": true
   },
   "outputs": [],
   "source": [
    "input_dir = u'E:\\\\Diploma\\\\Network_inputs\\\\'\n",
    "output_dir = u'E:\\\\Diploma\\\\Outputs_230_8\\\\'\n",
    "cropped_dir = u'E:\\\\Diploma\\\\Outputs_cropped_230_8\\\\'\n",
    "\n",
    "simhei = u'Simhei'\n",
    "simsun = u'Simsun'\n",
    "\n",
    "image_mode = 'L'\n",
    "\n",
    "size = 230"
   ]
  },
  {
   "cell_type": "code",
   "execution_count": 35,
   "metadata": {
    "collapsed": false
   },
   "outputs": [],
   "source": [
    "simple_hier_codes = []\n",
    "\n",
    "with open(\"1-2 strokes hieroglyphs.txt\", \"r\") as codes:\n",
    "    for code in codes:\n",
    "        simple_hier_codes.append(code[2:-1].lower())"
   ]
  },
  {
   "cell_type": "code",
   "execution_count": 36,
   "metadata": {
    "collapsed": true
   },
   "outputs": [],
   "source": [
    "print simple_hier_codes"
   ]
  },
  {
   "cell_type": "code",
   "execution_count": 44,
   "metadata": {
    "collapsed": false
   },
   "outputs": [],
   "source": [
    "print \"------------------------------\"\n",
    "for filename in os.listdir(input_dir):\n",
    "    unicode_repr = filename[0].encode('raw_unicode_escape')[2:]\n",
    "    if unicode_repr in simple_hier_codes:\n",
    "        image = Image.open(input_dir + filename)\n",
    "        image.save('simple_set\\\\' + filename, 'BMP')"
   ]
  },
  {
   "cell_type": "code",
   "execution_count": null,
   "metadata": {
    "collapsed": true
   },
   "outputs": [],
   "source": []
  }
 ],
 "metadata": {
  "kernelspec": {
   "display_name": "Python 2",
   "language": "python",
   "name": "python2"
  },
  "language_info": {
   "codemirror_mode": {
    "name": "ipython",
    "version": 2
   },
   "file_extension": ".py",
   "mimetype": "text/x-python",
   "name": "python",
   "nbconvert_exporter": "python",
   "pygments_lexer": "ipython2",
   "version": "2.7.12"
  }
 },
 "nbformat": 4,
 "nbformat_minor": 1
}
