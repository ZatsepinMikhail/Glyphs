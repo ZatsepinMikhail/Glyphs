{
 "cells": [
  {
   "cell_type": "code",
   "execution_count": 1,
   "metadata": {
    "collapsed": false
   },
   "outputs": [
    {
     "name": "stderr",
     "output_type": "stream",
     "text": [
      "c:\\miniconda2\\lib\\site-packages\\ipykernel\\__main__.py:9: DeprecationWarning: the sets module is deprecated\n"
     ]
    }
   ],
   "source": [
    "import caffe\n",
    "import numpy as np\n",
    "import matplotlib.pyplot as plt\n",
    "from PIL import Image\n",
    "import cv\n",
    "import os\n",
    "from PIL import ImageFont, ImageDraw, Image\n",
    "import shutil\n",
    "from sets import Set"
   ]
  },
  {
   "cell_type": "code",
   "execution_count": 2,
   "metadata": {
    "collapsed": true
   },
   "outputs": [],
   "source": [
    "import sys\n",
    "reload(sys)\n",
    "sys.setdefaultencoding('utf-8')"
   ]
  },
  {
   "cell_type": "code",
   "execution_count": 3,
   "metadata": {
    "collapsed": true
   },
   "outputs": [],
   "source": [
    "input_dir = u'E:\\\\Diploma\\\\Network_inputs\\\\'\n",
    "output_dir = u'E:\\\\Diploma\\\\Outputs_230_8\\\\'\n",
    "cropped_dir = u'E:\\\\Diploma\\\\Outputs_cropped_230_8\\\\'\n",
    "\n",
    "simhei = u'Simhei'\n",
    "simsun = u'Simsun'\n",
    "\n",
    "image_mode = 'L'\n",
    "\n",
    "size = 46"
   ]
  },
  {
   "cell_type": "code",
   "execution_count": 63,
   "metadata": {
    "collapsed": false
   },
   "outputs": [],
   "source": [
    "import unicodedata\n",
    "\n",
    "file_strokes = ['hier_by_strokes\\\\stroke1.txt', 'hier_by_strokes\\\\stroke2.txt']\n",
    "\n",
    "simple_hier_codes = []\n",
    "\n",
    "for filename in file_strokes:\n",
    "    with open(filename, \"r\") as codes:\n",
    "        with open('python_code_generated.txt', \"a\") as python:\n",
    "            for code in codes:\n",
    "                python.write('with open(\\'simple_set_good\\\\\\\\\\' + unichr(ord(u\\'\\\\u' + code[2:-1].lower() + '\\')), \\'a\\') as codes:\\n\\tpass\\n')"
   ]
  },
  {
   "cell_type": "code",
   "execution_count": 52,
   "metadata": {
    "collapsed": true
   },
   "outputs": [],
   "source": [
    "print simple_hier_codes"
   ]
  },
  {
   "cell_type": "code",
   "execution_count": 54,
   "metadata": {
    "collapsed": false
   },
   "outputs": [],
   "source": [
    "for code in simple_hier_codes:\n",
    "    with open('simple_set_good\\\\' + unichr(ord(u'\\u529b')), 'a') as codes:\n",
    "        pass\n",
    "    break"
   ]
  },
  {
   "cell_type": "code",
   "execution_count": 11,
   "metadata": {
    "collapsed": false
   },
   "outputs": [],
   "source": [
    "for filename in os.listdir(input_dir):\n",
    "    with open('simple_set_good\\\\' + filename[0], 'a') as codes:\n",
    "        pass\n",
    "    print ord(filename[0])\n",
    "    break"
   ]
  },
  {
   "cell_type": "code",
   "execution_count": 60,
   "metadata": {
    "collapsed": true
   },
   "outputs": [],
   "source": [
    "print '\\u0017'.decode()"
   ]
  },
  {
   "cell_type": "code",
   "execution_count": 64,
   "metadata": {
    "collapsed": false
   },
   "outputs": [],
   "source": [
    "#generated code here\n",
    "\n",
    "with open('simple_set_good\\\\' + unichr(ord(u'\\u4e00')), 'a') as codes:\n",
    "\tpass\n",
    "with open('simple_set_good\\\\' + unichr(ord(u'\\u4e28')), 'a') as codes:\n",
    "\tpass\n",
    "with open('simple_set_good\\\\' + unichr(ord(u'\\u4e36')), 'a') as codes:\n",
    "\tpass\n",
    "with open('simple_set_good\\\\' + unichr(ord(u'\\u4e3f')), 'a') as codes:\n",
    "\tpass\n",
    "with open('simple_set_good\\\\' + unichr(ord(u'\\u4e40')), 'a') as codes:\n",
    "\tpass\n",
    "with open('simple_set_good\\\\' + unichr(ord(u'\\u4e41')), 'a') as codes:\n",
    "\tpass\n",
    "with open('simple_set_good\\\\' + unichr(ord(u'\\u4e59')), 'a') as codes:\n",
    "\tpass\n",
    "with open('simple_set_good\\\\' + unichr(ord(u'\\u4e5a')), 'a') as codes:\n",
    "\tpass\n",
    "with open('simple_set_good\\\\' + unichr(ord(u'\\u4e5b')), 'a') as codes:\n",
    "\tpass\n",
    "with open('simple_set_good\\\\' + unichr(ord(u'\\u4e85')), 'a') as codes:\n",
    "\tpass\n",
    "with open('simple_set_good\\\\' + unichr(ord(u'\\u3405')), 'a') as codes:\n",
    "\tpass\n",
    "with open('simple_set_good\\\\' + unichr(ord(u'\\u4e01')), 'a') as codes:\n",
    "\tpass\n",
    "with open('simple_set_good\\\\' + unichr(ord(u'\\u4e02')), 'a') as codes:\n",
    "\tpass\n",
    "with open('simple_set_good\\\\' + unichr(ord(u'\\u4e03')), 'a') as codes:\n",
    "\tpass\n",
    "with open('simple_set_good\\\\' + unichr(ord(u'\\u4e04')), 'a') as codes:\n",
    "\tpass\n",
    "with open('simple_set_good\\\\' + unichr(ord(u'\\u4e05')), 'a') as codes:\n",
    "\tpass\n",
    "with open('simple_set_good\\\\' + unichr(ord(u'\\u4e06')), 'a') as codes:\n",
    "\tpass\n",
    "with open('simple_set_good\\\\' + unichr(ord(u'\\u4e29')), 'a') as codes:\n",
    "\tpass\n",
    "with open('simple_set_good\\\\' + unichr(ord(u'\\u4e37')), 'a') as codes:\n",
    "\tpass\n",
    "with open('simple_set_good\\\\' + unichr(ord(u'\\u4e42')), 'a') as codes:\n",
    "\tpass\n",
    "with open('simple_set_good\\\\' + unichr(ord(u'\\u4e43')), 'a') as codes:\n",
    "\tpass\n",
    "with open('simple_set_good\\\\' + unichr(ord(u'\\u4e44')), 'a') as codes:\n",
    "\tpass\n",
    "with open('simple_set_good\\\\' + unichr(ord(u'\\u4e5c')), 'a') as codes:\n",
    "\tpass\n",
    "with open('simple_set_good\\\\' + unichr(ord(u'\\u4e5d')), 'a') as codes:\n",
    "\tpass\n",
    "with open('simple_set_good\\\\' + unichr(ord(u'\\u4e86')), 'a') as codes:\n",
    "\tpass\n",
    "with open('simple_set_good\\\\' + unichr(ord(u'\\u4e8c')), 'a') as codes:\n",
    "\tpass\n",
    "with open('simple_set_good\\\\' + unichr(ord(u'\\u4ea0')), 'a') as codes:\n",
    "\tpass\n",
    "with open('simple_set_good\\\\' + unichr(ord(u'\\u4eba')), 'a') as codes:\n",
    "\tpass\n",
    "with open('simple_set_good\\\\' + unichr(ord(u'\\u4ebb')), 'a') as codes:\n",
    "\tpass\n",
    "with open('simple_set_good\\\\' + unichr(ord(u'\\u513f')), 'a') as codes:\n",
    "\tpass\n",
    "with open('simple_set_good\\\\' + unichr(ord(u'\\u5165')), 'a') as codes:\n",
    "\tpass\n",
    "with open('simple_set_good\\\\' + unichr(ord(u'\\u516b')), 'a') as codes:\n",
    "\tpass\n",
    "with open('simple_set_good\\\\' + unichr(ord(u'\\u5182')), 'a') as codes:\n",
    "\tpass\n",
    "with open('simple_set_good\\\\' + unichr(ord(u'\\u5196')), 'a') as codes:\n",
    "\tpass\n",
    "with open('simple_set_good\\\\' + unichr(ord(u'\\u51ab')), 'a') as codes:\n",
    "\tpass\n",
    "with open('simple_set_good\\\\' + unichr(ord(u'\\u51e0')), 'a') as codes:\n",
    "\tpass\n",
    "with open('simple_set_good\\\\' + unichr(ord(u'\\u51f5')), 'a') as codes:\n",
    "\tpass\n",
    "with open('simple_set_good\\\\' + unichr(ord(u'\\u5200')), 'a') as codes:\n",
    "\tpass\n",
    "with open('simple_set_good\\\\' + unichr(ord(u'\\u5201')), 'a') as codes:\n",
    "\tpass\n",
    "with open('simple_set_good\\\\' + unichr(ord(u'\\u5202')), 'a') as codes:\n",
    "\tpass\n",
    "with open('simple_set_good\\\\' + unichr(ord(u'\\u529b')), 'a') as codes:\n",
    "\tpass\n",
    "with open('simple_set_good\\\\' + unichr(ord(u'\\u52f9')), 'a') as codes:\n",
    "\tpass\n",
    "with open('simple_set_good\\\\' + unichr(ord(u'\\u5315')), 'a') as codes:\n",
    "\tpass\n",
    "with open('simple_set_good\\\\' + unichr(ord(u'\\u531a')), 'a') as codes:\n",
    "\tpass\n",
    "with open('simple_set_good\\\\' + unichr(ord(u'\\u5338')), 'a') as codes:\n",
    "\tpass\n",
    "with open('simple_set_good\\\\' + unichr(ord(u'\\u5341')), 'a') as codes:\n",
    "\tpass\n",
    "with open('simple_set_good\\\\' + unichr(ord(u'\\u535c')), 'a') as codes:\n",
    "\tpass\n",
    "with open('simple_set_good\\\\' + unichr(ord(u'\\u5369')), 'a') as codes:\n",
    "\tpass\n",
    "with open('simple_set_good\\\\' + unichr(ord(u'\\u5382')), 'a') as codes:\n",
    "\tpass\n",
    "with open('simple_set_good\\\\' + unichr(ord(u'\\u53b6')), 'a') as codes:\n",
    "\tpass\n",
    "with open('simple_set_good\\\\' + unichr(ord(u'\\u53c8')), 'a') as codes:\n",
    "\tpass\n",
    "with open('simple_set_good\\\\' + unichr(ord(u'\\u8ba0')), 'a') as codes:\n",
    "\tpass\n"
   ]
  },
  {
   "cell_type": "code",
   "execution_count": null,
   "metadata": {
    "collapsed": true
   },
   "outputs": [],
   "source": []
  }
 ],
 "metadata": {
  "kernelspec": {
   "display_name": "Python 2",
   "language": "python",
   "name": "python2"
  },
  "language_info": {
   "codemirror_mode": {
    "name": "ipython",
    "version": 2
   },
   "file_extension": ".py",
   "mimetype": "text/x-python",
   "name": "python",
   "nbconvert_exporter": "python",
   "pygments_lexer": "ipython2",
   "version": "2.7.12"
  }
 },
 "nbformat": 4,
 "nbformat_minor": 1
}
