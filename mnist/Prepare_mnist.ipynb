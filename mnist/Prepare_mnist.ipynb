{
 "cells": [
  {
   "cell_type": "code",
   "execution_count": 1,
   "metadata": {
    "collapsed": true
   },
   "outputs": [],
   "source": [
    "import caffe\n",
    "import numpy as np\n",
    "import matplotlib.pyplot as plt\n",
    "from PIL import Image\n",
    "import cv\n",
    "import os\n",
    "from PIL import ImageFont, ImageDraw, Image\n",
    "import shutil"
   ]
  },
  {
   "cell_type": "code",
   "execution_count": 9,
   "metadata": {
    "collapsed": true
   },
   "outputs": [],
   "source": [
    "image_mode = 'L'\n",
    "image_size = 28\n",
    "\n",
    "train_dir = 'C:\\\\Users\\\\Mikhail\\\\Diploma\\\\Mnist_prepare\\\\train'\n",
    "test_dir = 'C:\\\\Users\\\\Mikhail\\\\Diploma\\\\Mnist_prepare\\\\test'\n",
    "\n",
    "total_train_dir = 'C:\\\\Users\\\\Mikhail\\\\Diploma\\\\Mnist_prepare\\\\total_train'\n",
    "total_test_dir = 'C:\\\\Users\\\\Mikhail\\\\Diploma\\\\Mnist_prepare\\\\total_test'\n",
    "\n",
    "total_dir = 'C:\\\\Users\\\\Mikhail\\\\Diploma\\\\Mnist_prepare\\\\total_data'"
   ]
  },
  {
   "cell_type": "code",
   "execution_count": 63,
   "metadata": {
    "collapsed": true
   },
   "outputs": [],
   "source": [
    "def prepare_dir(dir_name):\n",
    "    if os.path.exists(dir_name):\n",
    "        shutil.rmtree(dir_name)\n",
    "    os.makedirs(dir_name)\n",
    "    for i in range(0,10):\n",
    "        os.makedirs(dir_name + '\\\\' + str(i))"
   ]
  },
  {
   "cell_type": "code",
   "execution_count": 64,
   "metadata": {
    "collapsed": false
   },
   "outputs": [],
   "source": [
    "#prepare_dir(train_dir)\n",
    "#prepare_dir(test_dir)"
   ]
  },
  {
   "cell_type": "code",
   "execution_count": 66,
   "metadata": {
    "collapsed": false
   },
   "outputs": [],
   "source": [
    "def process_csv(filename, output_dir):\n",
    "    cur_index = 0\n",
    "    with open(filename, 'r') as infile:\n",
    "        for line in infile:\n",
    "            tokens = line.split(',')\n",
    "            sign = Image.new(image_mode, (image_size, image_size), color=0)\n",
    "            for i in range(len(tokens) - 1):\n",
    "                sign.putpixel((i % image_size, i / image_size), (int(tokens[i + 1])))\n",
    "            sign.save(output_dir + '\\\\' + str(tokens[0]) + '\\\\' + str(cur_index) + '.bmp', 'BMP')\n",
    "            cur_index = cur_index + 1\n",
    "            if cur_index % 10000 == 0:\n",
    "                print cur_index"
   ]
  },
  {
   "cell_type": "code",
   "execution_count": 67,
   "metadata": {
    "collapsed": false
   },
   "outputs": [
    {
     "name": "stdout",
     "output_type": "stream",
     "text": [
      "10000\n",
      "20000\n",
      "30000\n",
      "40000\n",
      "50000\n",
      "60000\n",
      "train processed\n",
      "10000\n",
      "test processed\n"
     ]
    }
   ],
   "source": [
    "#process_csv('mnist_train.csv', train_dir)\n",
    "#print 'train processed'\n",
    "#process_csv('mnist_test.csv', test_dir)\n",
    "#print 'test processed'"
   ]
  },
  {
   "cell_type": "code",
   "execution_count": 7,
   "metadata": {
    "collapsed": true
   },
   "outputs": [],
   "source": [
    "from os import walk\n",
    "\n",
    "def consolidate(input_dir, output_dir):\n",
    "    f = []\n",
    "    for (dirpath, dirnames, filenames) in walk(input_dir):\n",
    "        for filename in filenames:\n",
    "            shutil.copyfile(dirpath + '\\\\' + filename, output_dir + '\\\\' + filename)"
   ]
  },
  {
   "cell_type": "code",
   "execution_count": 8,
   "metadata": {
    "collapsed": false
   },
   "outputs": [],
   "source": [
    "consolidate(train_dir, total_train_dir)\n",
    "consolidate(test_dir, total_test_dir)"
   ]
  },
  {
   "cell_type": "code",
   "execution_count": 10,
   "metadata": {
    "collapsed": true
   },
   "outputs": [],
   "source": [
    "def unite(dir1, dir2, out_dir):\n",
    "    cur_index = 0\n",
    "    for filename in os.listdir(dir1):\n",
    "        shutil.copyfile(dir1 + '\\\\' + filename, out_dir + '\\\\' + str(cur_index) + '.bmp')\n",
    "        cur_index = cur_index + 1\n",
    "        \n",
    "    for filename in os.listdir(dir2):\n",
    "        shutil.copyfile(dir2 + '\\\\' + filename, out_dir + '\\\\' + str(cur_index) + '.bmp')\n",
    "        cur_index = cur_index + 1 "
   ]
  },
  {
   "cell_type": "code",
   "execution_count": 12,
   "metadata": {
    "collapsed": false
   },
   "outputs": [],
   "source": [
    "unite(total_train_dir, total_test_dir, total_dir)"
   ]
  },
  {
   "cell_type": "code",
   "execution_count": null,
   "metadata": {
    "collapsed": true
   },
   "outputs": [],
   "source": []
  }
 ],
 "metadata": {
  "kernelspec": {
   "display_name": "Python 2",
   "language": "python",
   "name": "python2"
  },
  "language_info": {
   "codemirror_mode": {
    "name": "ipython",
    "version": 2
   },
   "file_extension": ".py",
   "mimetype": "text/x-python",
   "name": "python",
   "nbconvert_exporter": "python",
   "pygments_lexer": "ipython2",
   "version": "2.7.12"
  }
 },
 "nbformat": 4,
 "nbformat_minor": 1
}
