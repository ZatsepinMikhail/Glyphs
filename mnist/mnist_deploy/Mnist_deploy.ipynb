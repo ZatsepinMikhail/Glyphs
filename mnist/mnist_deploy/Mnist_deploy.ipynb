{
 "cells": [
  {
   "cell_type": "code",
   "execution_count": 1,
   "metadata": {
    "collapsed": true
   },
   "outputs": [],
   "source": [
    "import caffe\n",
    "import numpy as np\n",
    "import matplotlib.pyplot as plt\n",
    "from PIL import Image\n",
    "import os\n",
    "import caffe.draw\n",
    "from caffe.proto import caffe_pb2\n",
    "from google.protobuf import text_format\n",
    "import cv2"
   ]
  },
  {
   "cell_type": "code",
   "execution_count": 2,
   "metadata": {
    "collapsed": true
   },
   "outputs": [],
   "source": [
    "import sys\n",
    "reload(sys)\n",
    "sys.setdefaultencoding('utf-8')"
   ]
  },
  {
   "cell_type": "code",
   "execution_count": 3,
   "metadata": {
    "collapsed": true
   },
   "outputs": [],
   "source": [
    "caffe.set_mode_cpu()"
   ]
  },
  {
   "cell_type": "markdown",
   "metadata": {},
   "source": [
    "Deploy network"
   ]
  },
  {
   "cell_type": "code",
   "execution_count": 39,
   "metadata": {
    "collapsed": true
   },
   "outputs": [],
   "source": [
    "net = caffe_pb2.NetParameter()\n",
    "text_format.Merge(open('mnist_autoencoder_deploy.prototxt').read(), net)\n",
    "image_name = 'mnist_autoencoder_deploy_modified.png'\n",
    "print('Drawing net to %s' % image_name)\n",
    "\n",
    "phase = caffe.TRAIN\n",
    "caffe.draw.draw_net_to_file(net, image_name, 'LR', phase)"
   ]
  },
  {
   "cell_type": "code",
   "execution_count": 40,
   "metadata": {
    "collapsed": false
   },
   "outputs": [],
   "source": [
    "net = caffe.Net('mnist_autoencoder_deploy.prototxt', '_iter_60000.caffemodel', caffe.TEST)"
   ]
  },
  {
   "cell_type": "code",
   "execution_count": 41,
   "metadata": {
    "collapsed": true
   },
   "outputs": [],
   "source": [
    "shapes = [(k, v.data.shape) for k, v in net.blobs.items()]\n",
    "for shape in shapes:\n",
    "    print shape"
   ]
  },
  {
   "cell_type": "code",
   "execution_count": 48,
   "metadata": {
    "collapsed": false
   },
   "outputs": [],
   "source": [
    "input_directory = u'C:\\\\Users\\\\Mikhail\\\\Diploma\\\\Mnist_prepare\\\\Black_background\\\\test\\\\1\\\\'\n",
    "\n",
    "import scipy.misc\n",
    "\n",
    "iteration = 0\n",
    "\n",
    "for filename in os.listdir(input_directory):\n",
    "    image = Image.open(input_directory + filename)\n",
    "\n",
    "    X = np.zeros((1, 1, 28, 28), dtype='f4') \n",
    "    X[0] = image\n",
    "    for i in range(X.shape[2]):\n",
    "        for j in range(X.shape[3]):\n",
    "            X[0][0][i][j] = X[0][0][i][j] * 0.0039215684\n",
    "            \n",
    "    input_vector = X[0].flatten()\n",
    "    \n",
    "    net.blobs['Input'].data[...] = X[0]\n",
    "    \n",
    "    net.forward()\n",
    "    \n",
    "    result_vector = np.array(net.blobs['decode1neuron'].data, dtype='f4')\n",
    "    \n",
    "    result_vector = result_vector.flatten()\n",
    "    \n",
    "    print np.linalg.norm(input_vector - result_vector)\n",
    "    \n",
    "    for i in range(len(result_vector)):\n",
    "        result_vector[i] = result_vector[i] * 255\n",
    "    \n",
    "    result_matrix = np.reshape(result_vector, (28, 28))\n",
    "    scipy.misc.imsave('1//' + filename, result_matrix)\n",
    "    \n",
    "    iteration += 1\n",
    "    if iteration == 20:\n",
    "        break"
   ]
  }
 ],
 "metadata": {
  "kernelspec": {
   "display_name": "Python 2",
   "language": "python",
   "name": "python2"
  },
  "language_info": {
   "codemirror_mode": {
    "name": "ipython",
    "version": 2
   },
   "file_extension": ".py",
   "mimetype": "text/x-python",
   "name": "python",
   "nbconvert_exporter": "python",
   "pygments_lexer": "ipython2",
   "version": "2.7.12"
  }
 },
 "nbformat": 4,
 "nbformat_minor": 1
}
