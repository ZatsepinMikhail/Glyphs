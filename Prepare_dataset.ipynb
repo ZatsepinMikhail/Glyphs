{
 "cells": [
  {
   "cell_type": "code",
   "execution_count": 1,
   "metadata": {
    "collapsed": false
   },
   "outputs": [],
   "source": [
    "import caffe\n",
    "import numpy as np\n",
    "import matplotlib.pyplot as plt\n",
    "from PIL import Image\n",
    "import cv2\n",
    "import os\n",
    "from PIL import ImageFont, ImageDraw, Image\n",
    "import shutil"
   ]
  },
  {
   "cell_type": "code",
   "execution_count": 2,
   "metadata": {
    "collapsed": true
   },
   "outputs": [],
   "source": [
    "import sys\n",
    "reload(sys)\n",
    "sys.setdefaultencoding('utf-8')"
   ]
  },
  {
   "cell_type": "code",
   "execution_count": 3,
   "metadata": {
    "collapsed": false
   },
   "outputs": [],
   "source": [
    "input_dir = u'C:\\\\Users\\\\Mikhail\\\\Diploma\\\\Hieroglyphs1_4\\\\simple_set_good\\\\'\n",
    "output_dir = u'C:\\\\Users\\\\Mikhail\\\\Diploma\\\\Hieroglyphs1_4\\\\simple_set_middle\\\\'\n",
    "cropped_dir = u'C:\\\\Users\\\\Mikhail\\\\Diploma\\\\Hieroglyphs1_4\\\\simple_set_fonts\\\\'\n",
    "\n",
    "font_names = []\n",
    "font_files = [u'simhei.ttf', u'simsun.ttc', u'msjhbd.ttc', u'msjhl.ttc', u'msjh.ttc', u'msjhbd.ttc', u'msjhl.ttc', u'msjh.ttc', u'msyhbd.ttc', u'msyhl.ttc', u'msyh.ttc', u'msyhbd.ttc', u'msyhl.ttc', u'msyh.ttc', u'mingliu.ttc', u'mingliu.ttc', u'simfang.ttf']\n",
    "for font_file in font_files:\n",
    "    font_names.append(font_file[:font_file.find('.')])\n",
    "\n",
    "image_mode = 'L'\n",
    "\n",
    "size = 46\n",
    "\n",
    "print font_names"
   ]
  },
  {
   "cell_type": "code",
   "execution_count": 4,
   "metadata": {
    "collapsed": false
   },
   "outputs": [],
   "source": [
    "def prepare_dir(dir_name, subdir_name):\n",
    "    if os.path.exists(dir_name + subdir_name):\n",
    "        shutil.rmtree(dir_name + subdir_name)\n",
    "    \n",
    "    os.makedirs(dir_name + subdir_name)"
   ]
  },
  {
   "cell_type": "code",
   "execution_count": 5,
   "metadata": {
    "collapsed": true
   },
   "outputs": [],
   "source": [
    "def draw_hieroglyph(font, filename, subdir):\n",
    "    hieroglyph = Image.new(image_mode, (size, int(1.3 * size)), color=255)\n",
    "    draw = ImageDraw.Draw(hieroglyph)\n",
    "    draw.text((0, 0), filename[0], font=font, fill=0)\n",
    "    \n",
    "    hieroglyph.save(output_dir + subdir + '\\\\' + filename + '.bmp', 'BMP')"
   ]
  },
  {
   "cell_type": "code",
   "execution_count": 9,
   "metadata": {
    "collapsed": false
   },
   "outputs": [],
   "source": [
    "fonts = []\n",
    "\n",
    "for index in range(len(font_names)):\n",
    "    prepare_dir(output_dir, font_names[index])\n",
    "    fonts.append(ImageFont.truetype(font_files[index], size))\n",
    "\n",
    "for filename in os.listdir(input_dir):\n",
    "    for index in range(len(font_names)):\n",
    "        draw_hieroglyph(fonts[index], filename, font_names[index])"
   ]
  },
  {
   "cell_type": "markdown",
   "metadata": {},
   "source": [
    "Обрежем края на шрифтовых изображениях иероглифов"
   ]
  },
  {
   "cell_type": "code",
   "execution_count": 6,
   "metadata": {
    "collapsed": true
   },
   "outputs": [],
   "source": [
    "white_pixel = 255\n",
    "\n",
    "def has_row_black(image, row):\n",
    "    height, width = image.shape[:2]\n",
    "    for x in range(0, width):\n",
    "        if image[row, x] != white_pixel:\n",
    "            return True\n",
    "    return False    \n",
    "    \n",
    "def has_col_black(image, col):\n",
    "    height, width = image.shape[:2]\n",
    "    for y in range(0, height):\n",
    "        if image[y, col] != white_pixel:\n",
    "            return True\n",
    "    return False\n",
    "\n",
    "def crop_image(image):\n",
    "    height, width = image.shape[:2]\n",
    "    \n",
    "    left = 0\n",
    "    upper = 0\n",
    "    right = 0\n",
    "    lower = 0\n",
    "    \n",
    "    for y in range(0, height):\n",
    "        if has_row_black(image, y):\n",
    "            upper = y\n",
    "            break\n",
    "        \n",
    "    for x in range(0, width):\n",
    "        if has_col_black(image, x):\n",
    "            left = x\n",
    "            break\n",
    "    \n",
    "    for x in range(width - 1, -1, -1):\n",
    "        if has_col_black(image, x):\n",
    "            right = x\n",
    "            break\n",
    "        \n",
    "    for y in range(height - 1, -1, -1):\n",
    "        if has_row_black(image, y):\n",
    "            lower = y\n",
    "            break\n",
    "                \n",
    "    return image[upper : lower + 1, left : right + 1]"
   ]
  },
  {
   "cell_type": "code",
   "execution_count": 16,
   "metadata": {
    "collapsed": true
   },
   "outputs": [],
   "source": [
    "input_dir_2 = u'C:\\\\Users\\\\Mikhail\\\\Diploma\\\\Hieroglyphs1_4\\\\simple_set_middle\\\\'\n",
    "output_dir_2 = u'C:\\\\Users\\\\Mikhail\\\\Diploma\\\\Hieroglyphs1_4\\\\simple_set_fonts_inter_area\\\\'\n",
    "default_size = 23"
   ]
  },
  {
   "cell_type": "code",
   "execution_count": 17,
   "metadata": {
    "collapsed": false
   },
   "outputs": [],
   "source": [
    "def centre_images(input_dir, output_dir):\n",
    "    \n",
    "    iteration = 0\n",
    "\n",
    "    for filename in os.listdir(input_dir):\n",
    "        \n",
    "        #PIL Image\n",
    "        image = Image.open(input_dir + filename)\n",
    "        \n",
    "        #OpenCV image ~ numpy.ndarray\n",
    "        image = np.array(image)\n",
    "        \n",
    "        cropped_image = crop_image(image)\n",
    "        \n",
    "        image_background = np.zeros((default_size,default_size), np.uint8)\n",
    "        image_background[:] = (255)\n",
    "        \n",
    "        height, width = cropped_image.shape[:2]\n",
    "        new_width = default_size\n",
    "        new_height = default_size\n",
    "\n",
    "        left = 0\n",
    "        upper = 0\n",
    "\n",
    "        if width >= height:\n",
    "            new_height = int(round(float(height) / width * default_size))\n",
    "            upper = int((default_size - new_height) / 2.0)\n",
    "        else:\n",
    "            new_width = int(round(float(width) / height * default_size))\n",
    "            left = int((default_size - new_width) / 2.0)\n",
    "        \n",
    "        resized_image = cv2.resize(cropped_image, (new_width, new_height), interpolation = cv2.INTER_AREA)\n",
    "        \n",
    "        image_background[upper : upper + new_height, left : left + new_width] = resized_image\n",
    "        \n",
    "        pil_image_background = Image.fromarray(image_background)\n",
    "        \n",
    "        pil_image_background.save(output_dir + filename, 'BMP')"
   ]
  },
  {
   "cell_type": "code",
   "execution_count": 18,
   "metadata": {
    "collapsed": false
   },
   "outputs": [],
   "source": [
    "for index in range(len(font_names)):\n",
    "    if not os.path.exists(output_dir_2 + font_names[index]):\n",
    "        prepare_dir(output_dir_2, font_names[index])\n",
    "        centre_images(input_dir_2 + font_names[index] + '\\\\', output_dir_2 + font_names[index] + '\\\\')"
   ]
  },
  {
   "cell_type": "markdown",
   "metadata": {},
   "source": [
    "Добавим гауссовский шум"
   ]
  },
  {
   "cell_type": "code",
   "execution_count": 9,
   "metadata": {
    "collapsed": true
   },
   "outputs": [],
   "source": [
    "import random"
   ]
  },
  {
   "cell_type": "code",
   "execution_count": 10,
   "metadata": {
    "collapsed": false
   },
   "outputs": [],
   "source": [
    "def add_gauss_noise(image, std):\n",
    "    width, height = image.size\n",
    "    for i in range(0, width):\n",
    "        for j in range(0, height):\n",
    "            random_addition = random.gauss(0, std)\n",
    "            image.putpixel((i, j), (int(min(255, max(0, image.getpixel((i,j)) + random_addition)))))"
   ]
  },
  {
   "cell_type": "code",
   "execution_count": 20,
   "metadata": {
    "collapsed": false
   },
   "outputs": [],
   "source": [
    "def gauss_images(input_dir, output_dir, std, x_product):\n",
    "    for filename in os.listdir(input_dir):\n",
    "        for index in range(x_product):\n",
    "            image = Image.open(input_dir + filename)\n",
    "            add_gauss_noise(image, std)\n",
    "            image.save(output_dir + filename[:filename.find('.')] + str(index) + '.bmp', 'BMP')"
   ]
  },
  {
   "cell_type": "code",
   "execution_count": 21,
   "metadata": {
    "collapsed": false
   },
   "outputs": [],
   "source": [
    "input_dir_gauss = u'C:\\\\Users\\\\Mikhail\\\\Diploma\\\\Hieroglyphs2\\\\simple_set_fonts\\\\'\n",
    "output_dir_gauss = u'C:\\\\Users\\\\Mikhail\\\\Diploma\\\\Hieroglyphs2\\\\simple_set_fonts_gauss_'\n",
    "\n",
    "stds = [1,2,3,4,5]\n",
    "x_products = [20,20,20,20,20]\n",
    "\n",
    "for std_index in range(len(stds)):\n",
    "    for index in range(len(font_names)):\n",
    "        output_dir_gauss_spec = output_dir_gauss + str(stds[std_index]) + '\\\\'\n",
    "        if not os.path.exists(output_dir_gauss_spec + font_names[index]):\n",
    "            prepare_dir(output_dir_gauss_spec, font_names[index])\n",
    "            gauss_images(input_dir_gauss + font_names[index] + '\\\\', output_dir_gauss_spec + font_names[index] + '\\\\', stds[std_index], x_products[std_index])"
   ]
  },
  {
   "cell_type": "code",
   "execution_count": null,
   "metadata": {
    "collapsed": true
   },
   "outputs": [],
   "source": []
  }
 ],
 "metadata": {
  "kernelspec": {
   "display_name": "Python 2",
   "language": "python",
   "name": "python2"
  },
  "language_info": {
   "codemirror_mode": {
    "name": "ipython",
    "version": 2
   },
   "file_extension": ".py",
   "mimetype": "text/x-python",
   "name": "python",
   "nbconvert_exporter": "python",
   "pygments_lexer": "ipython2",
   "version": "2.7.12"
  }
 },
 "nbformat": 4,
 "nbformat_minor": 1
}
