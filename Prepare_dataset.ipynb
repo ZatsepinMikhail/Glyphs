{
 "cells": [
  {
   "cell_type": "code",
   "execution_count": 1,
   "metadata": {
    "collapsed": false
   },
   "outputs": [
    {
     "ename": "ImportError",
     "evalue": "No module named _caffe",
     "output_type": "error",
     "traceback": [
      "\u001b[0;31m---------------------------------------------------------------------------\u001b[0m",
      "\u001b[0;31mImportError\u001b[0m                               Traceback (most recent call last)",
      "\u001b[0;32m<ipython-input-1-3444db0d181a>\u001b[0m in \u001b[0;36m<module>\u001b[0;34m()\u001b[0m\n\u001b[0;32m----> 1\u001b[0;31m \u001b[1;32mimport\u001b[0m \u001b[0mcaffe\u001b[0m\u001b[1;33m\u001b[0m\u001b[0m\n\u001b[0m\u001b[1;32m      2\u001b[0m \u001b[1;32mimport\u001b[0m \u001b[0mnumpy\u001b[0m \u001b[1;32mas\u001b[0m \u001b[0mnp\u001b[0m\u001b[1;33m\u001b[0m\u001b[0m\n\u001b[1;32m      3\u001b[0m \u001b[1;32mimport\u001b[0m \u001b[0mmatplotlib\u001b[0m\u001b[1;33m.\u001b[0m\u001b[0mpyplot\u001b[0m \u001b[1;32mas\u001b[0m \u001b[0mplt\u001b[0m\u001b[1;33m\u001b[0m\u001b[0m\n\u001b[1;32m      4\u001b[0m \u001b[1;32mfrom\u001b[0m \u001b[0mPIL\u001b[0m \u001b[1;32mimport\u001b[0m \u001b[0mImage\u001b[0m\u001b[1;33m\u001b[0m\u001b[0m\n\u001b[1;32m      5\u001b[0m \u001b[1;32mimport\u001b[0m \u001b[0mcv\u001b[0m\u001b[1;33m\u001b[0m\u001b[0m\n",
      "\u001b[0;32mC:\\Libs\\caffe-master\\python\\caffe\\__init__.py\u001b[0m in \u001b[0;36m<module>\u001b[0;34m()\u001b[0m\n\u001b[0;32m----> 1\u001b[0;31m \u001b[1;32mfrom\u001b[0m \u001b[1;33m.\u001b[0m\u001b[0mpycaffe\u001b[0m \u001b[1;32mimport\u001b[0m \u001b[0mNet\u001b[0m\u001b[1;33m,\u001b[0m \u001b[0mSGDSolver\u001b[0m\u001b[1;33m,\u001b[0m \u001b[0mNesterovSolver\u001b[0m\u001b[1;33m,\u001b[0m \u001b[0mAdaGradSolver\u001b[0m\u001b[1;33m,\u001b[0m \u001b[0mRMSPropSolver\u001b[0m\u001b[1;33m,\u001b[0m \u001b[0mAdaDeltaSolver\u001b[0m\u001b[1;33m,\u001b[0m \u001b[0mAdamSolver\u001b[0m\u001b[1;33m\u001b[0m\u001b[0m\n\u001b[0m\u001b[1;32m      2\u001b[0m \u001b[1;32mfrom\u001b[0m \u001b[1;33m.\u001b[0m\u001b[0m_caffe\u001b[0m \u001b[1;32mimport\u001b[0m \u001b[0mset_mode_cpu\u001b[0m\u001b[1;33m,\u001b[0m \u001b[0mset_mode_gpu\u001b[0m\u001b[1;33m,\u001b[0m \u001b[0mset_device\u001b[0m\u001b[1;33m,\u001b[0m \u001b[0mLayer\u001b[0m\u001b[1;33m,\u001b[0m \u001b[0mget_solver\u001b[0m\u001b[1;33m,\u001b[0m \u001b[0mlayer_type_list\u001b[0m\u001b[1;33m,\u001b[0m \u001b[0mset_random_seed\u001b[0m\u001b[1;33m\u001b[0m\u001b[0m\n\u001b[1;32m      3\u001b[0m \u001b[1;32mfrom\u001b[0m \u001b[1;33m.\u001b[0m\u001b[0m_caffe\u001b[0m \u001b[1;32mimport\u001b[0m \u001b[0m__version__\u001b[0m\u001b[1;33m\u001b[0m\u001b[0m\n\u001b[1;32m      4\u001b[0m \u001b[1;32mfrom\u001b[0m \u001b[1;33m.\u001b[0m\u001b[0mproto\u001b[0m\u001b[1;33m.\u001b[0m\u001b[0mcaffe_pb2\u001b[0m \u001b[1;32mimport\u001b[0m \u001b[0mTRAIN\u001b[0m\u001b[1;33m,\u001b[0m \u001b[0mTEST\u001b[0m\u001b[1;33m\u001b[0m\u001b[0m\n\u001b[1;32m      5\u001b[0m \u001b[1;32mfrom\u001b[0m \u001b[1;33m.\u001b[0m\u001b[0mclassifier\u001b[0m \u001b[1;32mimport\u001b[0m \u001b[0mClassifier\u001b[0m\u001b[1;33m\u001b[0m\u001b[0m\n",
      "\u001b[0;32mC:\\Libs\\caffe-master\\python\\caffe\\pycaffe.py\u001b[0m in \u001b[0;36m<module>\u001b[0;34m()\u001b[0m\n\u001b[1;32m     11\u001b[0m \u001b[1;32mimport\u001b[0m \u001b[0mnumpy\u001b[0m \u001b[1;32mas\u001b[0m \u001b[0mnp\u001b[0m\u001b[1;33m\u001b[0m\u001b[0m\n\u001b[1;32m     12\u001b[0m \u001b[1;33m\u001b[0m\u001b[0m\n\u001b[0;32m---> 13\u001b[0;31m \u001b[1;32mfrom\u001b[0m \u001b[1;33m.\u001b[0m\u001b[0m_caffe\u001b[0m \u001b[1;32mimport\u001b[0m \u001b[0mNet\u001b[0m\u001b[1;33m,\u001b[0m \u001b[0mSGDSolver\u001b[0m\u001b[1;33m,\u001b[0m \u001b[0mNesterovSolver\u001b[0m\u001b[1;33m,\u001b[0m \u001b[0mAdaGradSolver\u001b[0m\u001b[1;33m,\u001b[0m\u001b[0;31m \u001b[0m\u001b[0;31m\\\u001b[0m\u001b[1;33m\u001b[0m\u001b[0m\n\u001b[0m\u001b[1;32m     14\u001b[0m         \u001b[0mRMSPropSolver\u001b[0m\u001b[1;33m,\u001b[0m \u001b[0mAdaDeltaSolver\u001b[0m\u001b[1;33m,\u001b[0m \u001b[0mAdamSolver\u001b[0m\u001b[1;33m\u001b[0m\u001b[0m\n\u001b[1;32m     15\u001b[0m \u001b[1;32mimport\u001b[0m \u001b[0mcaffe\u001b[0m\u001b[1;33m.\u001b[0m\u001b[0mio\u001b[0m\u001b[1;33m\u001b[0m\u001b[0m\n",
      "\u001b[0;31mImportError\u001b[0m: No module named _caffe"
     ]
    }
   ],
   "source": [
    "import caffe\n",
    "import numpy as np\n",
    "import matplotlib.pyplot as plt\n",
    "from PIL import Image\n",
    "import cv\n",
    "import os\n",
    "from PIL import ImageFont, ImageDraw, Image\n",
    "import shutil"
   ]
  },
  {
   "cell_type": "code",
   "execution_count": 2,
   "metadata": {
    "collapsed": true
   },
   "outputs": [],
   "source": [
    "input_dir = u'E:\\\\Diploma\\\\Inputs\\\\'\n",
    "output_dir = u'E:\\\\Diploma\\\\Outputs\\\\'\n",
    "cropped_dir = u'E:\\\\Diploma\\\\Outputs_cropped\\\\'\n",
    "\n",
    "simhei = 'Simhei'\n",
    "simsun = 'Simsun'\n",
    "\n",
    "size = 60"
   ]
  },
  {
   "cell_type": "code",
   "execution_count": 3,
   "metadata": {
    "collapsed": true
   },
   "outputs": [],
   "source": [
    "def prepare_dir(dir_name, subdir_name):\n",
    "    if os.path.exists(dir_name + subdir_name):\n",
    "        shutil.rmtree(dir_name + subdir_name)\n",
    "    \n",
    "    os.makedirs(dir_name + subdir_name)"
   ]
  },
  {
   "cell_type": "code",
   "execution_count": 51,
   "metadata": {
    "collapsed": true
   },
   "outputs": [],
   "source": [
    "def draw_hieroglyph(font, filename, subdir):\n",
    "    hieroglyph = Image.new('1', (size, size), color=1)\n",
    "    draw = ImageDraw.Draw(hieroglyph)\n",
    "    draw.text((0, 0), filename[0], font=font, fill=0)\n",
    "    \n",
    "    hieroglyph.save(output_dir + subdir + '\\\\' + filename, 'BMP')"
   ]
  },
  {
   "cell_type": "code",
   "execution_count": 52,
   "metadata": {
    "collapsed": false
   },
   "outputs": [],
   "source": [
    "prepare_dir(output_dir, simhei)\n",
    "prepare_dir(output_dir, simsun)\n",
    "\n",
    "font_simhei = ImageFont.truetype('simhei.ttf', size);\n",
    "font_simsun = ImageFont.truetype('simsun.ttc', size);\n",
    "\n",
    "for filename in os.listdir(input_dir):\n",
    "    draw_hieroglyph(font_simhei, filename, simhei)\n",
    "    draw_hieroglyph(font_simsun, filename, simsun)"
   ]
  },
  {
   "cell_type": "markdown",
   "metadata": {},
   "source": [
    "Обрежем края на шрифтовых изображениях иероглифов"
   ]
  },
  {
   "cell_type": "code",
   "execution_count": 53,
   "metadata": {
    "collapsed": true
   },
   "outputs": [],
   "source": [
    "black_pixel = 0\n",
    "\n",
    "def has_row_black(image, row):\n",
    "    width = image.size[0]\n",
    "    for x in range(0, width):\n",
    "        if image.getpixel((x, row)) == black_pixel:\n",
    "            return True\n",
    "    return False    \n",
    "    \n",
    "def has_col_black(image, col):\n",
    "    height = image.size[1]\n",
    "    for y in range(0, height):\n",
    "        if image.getpixel((col, y)) == black_pixel:\n",
    "            return True\n",
    "    return False\n",
    "\n",
    "def crop_image(image):\n",
    "    width, height = image.size\n",
    "    \n",
    "    left = 0\n",
    "    upper = 0\n",
    "    right = 0\n",
    "    lower = 0\n",
    "    \n",
    "    for y in range(0, height):\n",
    "        if has_row_black(image, y):\n",
    "            upper = y\n",
    "            break\n",
    "        \n",
    "    for x in range(0, width):\n",
    "        if has_col_black(image, x):\n",
    "            left = x\n",
    "            break\n",
    "    \n",
    "    for x in range(width - 1, -1, -1):\n",
    "        if has_col_black(image, x):\n",
    "            right = x\n",
    "            break\n",
    "        \n",
    "    for y in range(height - 1, -1, -1):\n",
    "        if has_row_black(image, y):\n",
    "            lower = y\n",
    "            break\n",
    "                \n",
    "    return image.crop((left,upper,right,lower))"
   ]
  },
  {
   "cell_type": "code",
   "execution_count": 54,
   "metadata": {
    "collapsed": false
   },
   "outputs": [],
   "source": [
    "prepare_dir(cropped_dir, simhei)\n",
    "prepare_dir(cropped_dir, simsun)\n",
    "\n",
    "font_names = [simhei, simsun]\n",
    "\n",
    "for font_name in font_names:\n",
    "    for filename in os.listdir(output_dir + font_name):\n",
    "        image = Image.open(output_dir + font_name + '\\\\' + filename)\n",
    "        cropped_image = crop_image(image)\n",
    "        cropped_image.save(cropped_dir + font_name + '\\\\' + filename, 'BMP')"
   ]
  },
  {
   "cell_type": "code",
   "execution_count": 32,
   "metadata": {
    "collapsed": false
   },
   "outputs": [],
   "source": [
    "glyph_shapes = []\n",
    "font_simhei_shapes = []\n",
    "font_simsun_shapes = []\n",
    "\n",
    "iteration = 0\n",
    "\n",
    "for filename in os.listdir(input_dir):\n",
    "    glyph_image = Image.open(input_dir + filename)\n",
    "    font_simhei_image = Image.open(cropped_dir + simhei + '\\\\' + filename)\n",
    "    font_simsun_image = Image.open(cropped_dir + simsun + '\\\\' + filename)\n",
    "    \n",
    "    glyph_shapes.append(gliff_image.size)\n",
    "    font_simhei_shapes.append(font_simhei_image.size)\n",
    "    font_simsun_shapes.append(font_simsun_image.size)"
   ]
  },
  {
   "cell_type": "code",
   "execution_count": 9,
   "metadata": {
    "collapsed": false
   },
   "outputs": [
    {
     "name": "stdout",
     "output_type": "stream",
     "text": [
      "[(42, 46), (42, 46), (43, 47), (58, 54), (44, 41), (41, 41), (45, 41), (43, 41), (38, 44), (44, 42)]\n",
      "[(37, 41), (37, 41), (37, 41), (29, 29), (53, 49), (53, 49), (53, 50), (53, 50), (51, 48), (51, 48)]\n",
      "[(36, 42), (36, 42), (36, 42), (33, 31), (51, 51), (51, 51), (54, 50), (54, 50), (51, 50), (51, 50)]\n"
     ]
    }
   ],
   "source": [
    "print glyph_shapes\n",
    "print font_simhei_shapes\n",
    "print font_simsun_shapes"
   ]
  },
  {
   "cell_type": "code",
   "execution_count": 33,
   "metadata": {
    "collapsed": true
   },
   "outputs": [],
   "source": [
    "def get_ratios(shapes):\n",
    "    return [float(width) / height for (width, height) in shapes]"
   ]
  },
  {
   "cell_type": "code",
   "execution_count": 34,
   "metadata": {
    "collapsed": true
   },
   "outputs": [],
   "source": [
    "glyph_ratios = get_ratios(glyph_shapes)\n",
    "font_simhei_ratios = get_ratios(font_simhei_shapes)\n",
    "font_simsun_ratios = get_ratios(font_simsun_shapes)"
   ]
  },
  {
   "cell_type": "code",
   "execution_count": 35,
   "metadata": {
    "collapsed": false
   },
   "outputs": [
    {
     "name": "stdout",
     "output_type": "stream",
     "text": [
      "25795 25795 25795\n"
     ]
    }
   ],
   "source": [
    "print len(glyph_ratios), len(font_simhei_ratios), len(font_simsun_ratios)"
   ]
  },
  {
   "cell_type": "code",
   "execution_count": 38,
   "metadata": {
    "collapsed": false
   },
   "outputs": [],
   "source": [
    "glyph_simhei = [abs(x - y) for (x,y) in zip(glyph_ratios, font_simhei_ratios)]\n",
    "glyph_simsun = [abs(x - y) for (x,y) in zip(glyph_ratios, font_simsun_ratios)]"
   ]
  },
  {
   "cell_type": "code",
   "execution_count": 39,
   "metadata": {
    "collapsed": false
   },
   "outputs": [
    {
     "name": "stdout",
     "output_type": "stream",
     "text": [
      "0.0273315362265\n",
      "0.0319066214754\n"
     ]
    }
   ],
   "source": [
    "print sum(glyph_simhei) / len(glyph_simhei)\n",
    "print sum(glyph_simsun) / len(glyph_simsun)"
   ]
  },
  {
   "cell_type": "code",
   "execution_count": 42,
   "metadata": {
    "collapsed": false
   },
   "outputs": [
    {
     "name": "stdout",
     "output_type": "stream",
     "text": [
      "(5, 54)\n"
     ]
    }
   ],
   "source": [
    "print min(font_simsun_shapes)"
   ]
  },
  {
   "cell_type": "code",
   "execution_count": 62,
   "metadata": {
    "collapsed": true
   },
   "outputs": [],
   "source": [
    "network_inputs_dir = u'E:\\\\Diploma\\\\Network_inputs\\\\'\n",
    "network_outputs_dir = u'E:\\\\Diploma\\\\Network_outputs\\\\'\n",
    "default_size = 23"
   ]
  },
  {
   "cell_type": "code",
   "execution_count": 69,
   "metadata": {
    "collapsed": false
   },
   "outputs": [],
   "source": [
    "def centre_images(input_dir, output_dir):\n",
    "    \n",
    "    iteration = 0\n",
    "\n",
    "    for filename in os.listdir(input_dir):\n",
    "        image = Image.open(input_dir + filename)\n",
    "        image_background = Image.new('1', (default_size, default_size), color=1)\n",
    "        width, height = image.size\n",
    "        new_width = default_size\n",
    "        new_height = default_size\n",
    "\n",
    "        left = 0\n",
    "        upper = 0\n",
    "\n",
    "        if width >= height:\n",
    "            new_height = int(round(float(height) / width * default_size))\n",
    "            upper = int(round((default_size - new_height) / 2.0))\n",
    "        else:\n",
    "            new_width = int(round(float(width) / height * default_size))\n",
    "            left = int(round((default_size - new_width) / 2.0))\n",
    "\n",
    "        resized_image = image.resize((new_width, new_height))\n",
    "        image_background.paste(resized_image, (left, upper))        \n",
    "        image_background.save(output_dir + filename, 'BMP')"
   ]
  },
  {
   "cell_type": "code",
   "execution_count": 70,
   "metadata": {
    "collapsed": false
   },
   "outputs": [
    {
     "name": "stdout",
     "output_type": "stream",
     "text": [
      "originals processed\n",
      "simhei processed\n",
      "simsun processed\n"
     ]
    }
   ],
   "source": [
    "centre_images(input_dir, network_inputs_dir)\n",
    "print 'originals processed'\n",
    "centre_images(cropped_dir + simhei + '\\\\', network_outputs_dir + simhei + '\\\\')\n",
    "print 'simhei processed'\n",
    "centre_images(cropped_dir + simsun + '\\\\', network_outputs_dir + simsun + '\\\\')\n",
    "print 'simsun processed'"
   ]
  },
  {
   "cell_type": "code",
   "execution_count": null,
   "metadata": {
    "collapsed": true
   },
   "outputs": [],
   "source": []
  }
 ],
 "metadata": {
  "kernelspec": {
   "display_name": "Python 2",
   "language": "python",
   "name": "python2"
  },
  "language_info": {
   "codemirror_mode": {
    "name": "ipython",
    "version": 2
   },
   "file_extension": ".py",
   "mimetype": "text/x-python",
   "name": "python",
   "nbconvert_exporter": "python",
   "pygments_lexer": "ipython2",
   "version": "2.7.12"
  }
 },
 "nbformat": 4,
 "nbformat_minor": 1
}
