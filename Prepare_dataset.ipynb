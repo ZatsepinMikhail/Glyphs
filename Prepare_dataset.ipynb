{
 "cells": [
  {
   "cell_type": "code",
   "execution_count": 2,
   "metadata": {
    "collapsed": false
   },
   "outputs": [],
   "source": [
    "import caffe\n",
    "import numpy as np\n",
    "import matplotlib.pyplot as plt\n",
    "from PIL import Image\n",
    "import cv\n",
    "import os\n",
    "from PIL import ImageFont, ImageDraw, Image\n",
    "import shutil"
   ]
  },
  {
   "cell_type": "code",
   "execution_count": 3,
   "metadata": {
    "collapsed": true
   },
   "outputs": [],
   "source": [
    "import sys\n",
    "reload(sys)\n",
    "sys.setdefaultencoding('utf-8')"
   ]
  },
  {
   "cell_type": "code",
   "execution_count": 16,
   "metadata": {
    "collapsed": false
   },
   "outputs": [],
   "source": [
    "input_dir = u'C:\\\\Users\\\\Mikhail\\\\Diploma\\\\Hieroglyphs2\\\\simple_set_good\\\\'\n",
    "output_dir = u'C:\\\\Users\\\\Mikhail\\\\Diploma\\\\Hieroglyphs2\\\\simple_set_middle\\\\'\n",
    "cropped_dir = u'C:\\\\Users\\\\Mikhail\\\\Diploma\\\\Hieroglyphs2\\\\simple_set_fonts\\\\'\n",
    "\n",
    "font_names = []\n",
    "font_files = [u'simhei.ttf', u'simsun.ttc', u'msjhbd.ttc', u'msjhl.ttc', u'msjh.ttc',\n",
    "             u'msjhbd.ttc', u'msjhl.ttc', u'msjh.ttc', u'msyhbd.ttc', u'msyhl.ttc', u'msyh.ttc', u'msyhbd.ttc', u'msyhl.ttc',\n",
    "             u'msyh.ttc', u'mingliu.ttc', u'mingliu.ttc', u'simfang.ttf']\n",
    "for font_file in font_files:\n",
    "    font_names.append(font_file[:font_file.find('.')])\n",
    "\n",
    "image_mode = 'L'\n",
    "\n",
    "size = 46\n",
    "\n",
    "print font_names"
   ]
  },
  {
   "cell_type": "code",
   "execution_count": 17,
   "metadata": {
    "collapsed": false
   },
   "outputs": [],
   "source": [
    "def prepare_dir(dir_name, subdir_name):\n",
    "    if os.path.exists(dir_name + subdir_name):\n",
    "        shutil.rmtree(dir_name + subdir_name)\n",
    "    \n",
    "    os.makedirs(dir_name + subdir_name)"
   ]
  },
  {
   "cell_type": "code",
   "execution_count": 18,
   "metadata": {
    "collapsed": true
   },
   "outputs": [],
   "source": [
    "def draw_hieroglyph(font, filename, subdir):\n",
    "    hieroglyph = Image.new(image_mode, (size, int(1.3 * size)), color=255)\n",
    "    draw = ImageDraw.Draw(hieroglyph)\n",
    "    draw.text((0, 0), filename[0], font=font, fill=0)\n",
    "    \n",
    "    hieroglyph.save(output_dir + subdir + '\\\\' + filename + '.bmp', 'BMP')"
   ]
  },
  {
   "cell_type": "code",
   "execution_count": 19,
   "metadata": {
    "collapsed": false
   },
   "outputs": [],
   "source": [
    "fonts = []\n",
    "\n",
    "for index in range(len(font_names)):\n",
    "    prepare_dir(output_dir, font_names[index])\n",
    "    fonts.append(ImageFont.truetype(font_files[index], size))\n",
    "\n",
    "for filename in os.listdir(input_dir):\n",
    "    for index in range(len(font_names)):\n",
    "        draw_hieroglyph(fonts[index], filename, font_names[index])"
   ]
  },
  {
   "cell_type": "markdown",
   "metadata": {},
   "source": [
    "Обрежем края на шрифтовых изображениях иероглифов"
   ]
  },
  {
   "cell_type": "code",
   "execution_count": 26,
   "metadata": {
    "collapsed": true
   },
   "outputs": [],
   "source": [
    "white_pixel = 255\n",
    "\n",
    "def has_row_black(image, row):\n",
    "    width = image.size[0]\n",
    "    for x in range(0, width):\n",
    "        if image.getpixel((x, row)) != white_pixel:\n",
    "            return True\n",
    "    return False    \n",
    "    \n",
    "def has_col_black(image, col):\n",
    "    height = image.size[1]\n",
    "    for y in range(0, height):\n",
    "        if image.getpixel((col, y)) != white_pixel:\n",
    "            return True\n",
    "    return False\n",
    "\n",
    "def crop_image(image):\n",
    "    width, height = image.size\n",
    "    \n",
    "    left = 0\n",
    "    upper = 0\n",
    "    right = 0\n",
    "    lower = 0\n",
    "    \n",
    "    for y in range(0, height):\n",
    "        if has_row_black(image, y):\n",
    "            upper = y\n",
    "            break\n",
    "        \n",
    "    for x in range(0, width):\n",
    "        if has_col_black(image, x):\n",
    "            left = x\n",
    "            break\n",
    "    \n",
    "    for x in range(width - 1, -1, -1):\n",
    "        if has_col_black(image, x):\n",
    "            right = x\n",
    "            break\n",
    "        \n",
    "    for y in range(height - 1, -1, -1):\n",
    "        if has_row_black(image, y):\n",
    "            lower = y\n",
    "            break\n",
    "                \n",
    "    return image.crop((left,upper,right + 1,lower + 1))"
   ]
  },
  {
   "cell_type": "code",
   "execution_count": 27,
   "metadata": {
    "collapsed": true
   },
   "outputs": [],
   "source": [
    "input_dir_2 = u'C:\\\\Users\\\\Mikhail\\\\Diploma\\\\Hieroglyphs2\\\\simple_set_middle\\\\'\n",
    "output_dir_2 = u'C:\\\\Users\\\\Mikhail\\\\Diploma\\\\Hieroglyphs2\\\\simple_set_fonts\\\\'\n",
    "default_size = 23"
   ]
  },
  {
   "cell_type": "code",
   "execution_count": 28,
   "metadata": {
    "collapsed": false
   },
   "outputs": [],
   "source": [
    "def centre_images(input_dir, output_dir):\n",
    "    \n",
    "    iteration = 0\n",
    "\n",
    "    for filename in os.listdir(input_dir):\n",
    "        image = Image.open(input_dir + filename)\n",
    "        cropped_image = crop_image(image)\n",
    "        image_background = Image.new(image_mode, (default_size, default_size), color=255)\n",
    "        width, height = cropped_image.size\n",
    "        new_width = default_size\n",
    "        new_height = default_size\n",
    "\n",
    "        left = 0\n",
    "        upper = 0\n",
    "\n",
    "        if width >= height:\n",
    "            new_height = int(round(float(height) / width * default_size))\n",
    "            upper = int((default_size - new_height) / 2.0)\n",
    "        else:\n",
    "            new_width = int(round(float(width) / height * default_size))\n",
    "            left = int((default_size - new_width) / 2.0)\n",
    "\n",
    "        resized_image = cropped_image.resize((new_width, new_height))\n",
    "        image_background.paste(resized_image, (left, upper))        \n",
    "        image_background.save(output_dir + filename, 'BMP')"
   ]
  },
  {
   "cell_type": "code",
   "execution_count": 29,
   "metadata": {
    "collapsed": false
   },
   "outputs": [],
   "source": [
    "for index in range(len(font_names)):\n",
    "    if not os.path.exists(output_dir_2 + font_names[index]):\n",
    "        prepare_dir(output_dir_2, font_names[index])\n",
    "        centre_images(input_dir_2 + font_names[index] + '\\\\', output_dir_2 + font_names[index] + '\\\\')"
   ]
  },
  {
   "cell_type": "markdown",
   "metadata": {},
   "source": [
    "Добавим гауссовский шум"
   ]
  },
  {
   "cell_type": "code",
   "execution_count": 31,
   "metadata": {
    "collapsed": true
   },
   "outputs": [],
   "source": [
    "import random\n",
    "gauss_dir = u'C:\\\\Users\\\\Mikhail\\\\Diploma\\\\Hieroglyphs2\\\\simple_set_fonts_gauss\\\\'"
   ]
  },
  {
   "cell_type": "code",
   "execution_count": 32,
   "metadata": {
    "collapsed": false
   },
   "outputs": [
    {
     "ename": "IndentationError",
     "evalue": "expected an indented block (<ipython-input-32-88a46c81236f>, line 2)",
     "output_type": "error",
     "traceback": [
      "\u001b[0;36m  File \u001b[0;32m\"<ipython-input-32-88a46c81236f>\"\u001b[0;36m, line \u001b[0;32m2\u001b[0m\n\u001b[0;31m    \u001b[0m\n\u001b[0m    ^\u001b[0m\n\u001b[0;31mIndentationError\u001b[0m\u001b[0;31m:\u001b[0m expected an indented block\n"
     ]
    }
   ],
   "source": [
    "def gauss_images(input_dir, output_dir):\n",
    "    for filename in os.listdir(input_dir):"
   ]
  },
  {
   "cell_type": "code",
   "execution_count": null,
   "metadata": {
    "collapsed": true
   },
   "outputs": [],
   "source": []
  }
 ],
 "metadata": {
  "kernelspec": {
   "display_name": "Python 2",
   "language": "python",
   "name": "python2"
  },
  "language_info": {
   "codemirror_mode": {
    "name": "ipython",
    "version": 2
   },
   "file_extension": ".py",
   "mimetype": "text/x-python",
   "name": "python",
   "nbconvert_exporter": "python",
   "pygments_lexer": "ipython2",
   "version": "2.7.12"
  }
 },
 "nbformat": 4,
 "nbformat_minor": 1
}
