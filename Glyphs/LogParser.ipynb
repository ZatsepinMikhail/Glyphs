{
 "cells": [
  {
   "cell_type": "code",
   "execution_count": 48,
   "metadata": {
    "collapsed": true
   },
   "outputs": [],
   "source": [
    "import os"
   ]
  },
  {
   "cell_type": "code",
   "execution_count": 49,
   "metadata": {
    "collapsed": false
   },
   "outputs": [],
   "source": [
    "log_dir = 'logs\\\\'\n",
    "\n",
    "iterations = []\n",
    "\n",
    "iteration_string = 'Iteration'\n",
    "test1_string = 'Testing net (#0)'\n",
    "test2_string = 'Testing net (#1)'"
   ]
  },
  {
   "cell_type": "code",
   "execution_count": 50,
   "metadata": {
    "collapsed": false
   },
   "outputs": [],
   "source": [
    "for filename in os.listdir(log_dir):\n",
    "    log_train_iterations = []\n",
    "    log_test1_iterations = []\n",
    "    log_test2_iterations = []\n",
    "    with open(log_dir + filename, 'r') as log_file:\n",
    "        lines = log_file.readlines()\n",
    "        for line_index in range(0, len(lines), 4):\n",
    "            line = lines[line_index]\n",
    "            index_iteration = line.find(iteration_string)\n",
    "            \n",
    "            iteration = -1\n",
    "            if index_iteration != -1:\n",
    "                line_from_iterations = line[index_iteration + len(iteration_string) + 1:]\n",
    "                index_comma = line_from_iterations.find(',')\n",
    "                iteration = int(line_from_iterations[: index_comma])\n",
    "                \n",
    "                phase = line_from_iterations[index_comma + 2: -1]\n",
    "                \n",
    "                if phase == test1_string:\n",
    "                    line_with_loss = lines[line_index + 3]\n",
    "                    loss = float(line_with_loss[line_with_loss.find('=') + 2:-1])\n",
    "                    \n",
    "                    log_test1_iterations.append((iteration, loss))\n",
    "                    \n",
    "                elif phase == test2_string:\n",
    "                    line_with_loss = lines[line_index + 3]\n",
    "                    loss = float(line_with_loss[line_with_loss.find('=') + 2:-1])\n",
    "                    \n",
    "                    log_test2_iterations.append((iteration, loss))\n",
    "                else:\n",
    "                    line_with_loss = lines[line_index + 2]\n",
    "                    loss = float(line_with_loss[line_with_loss.find('=') + 2:-1])\n",
    "                    \n",
    "                    log_train_iterations.append((iteration, loss))\n",
    "    iterations.append((filename, log_train_iterations, log_test1_iterations, log_test2_iterations))"
   ]
  },
  {
   "cell_type": "code",
   "execution_count": 51,
   "metadata": {
    "collapsed": false
   },
   "outputs": [
    {
     "name": "stdout",
     "output_type": "stream",
     "text": [
      "[('log.txt', [(0, 59.8545), (100, 21.4574), (200, 21.5929), (300, 21.3886), (400, 21.1958), (500, 19.5639), (600, 18.733), (700, 18.9801), (800, 17.8896), (900, 16.8062), (1000, 16.9937), (1100, 16.3781), (1200, 16.0712), (1300, 16.9701), (1400, 16.0127), (1500, 16.1947), (1600, 15.8783), (1700, 15.6295), (1800, 15.3831), (1900, 15.4568), (2000, 15.2878), (2100, 15.7818), (2200, 14.7509), (2300, 15.2637), (2400, 15.3841)], [(500, 19.5388), (1000, 17.0664), (1500, 16.1264), (2000, 15.5436), (2500, 15.2011)], [(0, 60.0073), (500, 19.588), (1000, 17.2056), (1500, 16.288), (2000, 15.7419), (2500, 15.397)]), ('log_pretrained.txt', [(0, 50.5276), (100, 18.3718), (200, 17.6739), (300, 16.725), (400, 16.5587), (500, 15.5794), (600, 14.7213), (700, 15.6458), (800, 14.8802), (900, 14.3396), (1000, 14.617), (1100, 14.2488), (1200, 14.1169), (1300, 15.1724), (1400, 14.1571), (1500, 14.4544), (1600, 14.3107), (1700, 13.7314), (1800, 13.7925), (1900, 13.7001), (2000, 13.9515), (2100, 14.6513), (2200, 13.5979), (2300, 14.1204), (2400, 14.0033), (2500, 13.9649), (2600, 13.4688), (2700, 14.0686), (2800, 13.7321), (2900, 13.8208), (3000, 13.4079), (3100, 14.3621), (3200, 14.2826), (3300, 14.1253), (3400, 13.365)], [(0, 51.8511), (500, 15.6992), (1000, 14.7631), (1500, 14.3435), (2000, 14.1198), (2500, 13.9295), (3000, 13.9188)], [(0, 51.7621), (500, 15.753), (1000, 14.8412), (1500, 14.4554), (2000, 14.2614), (2500, 14.0833), (3000, 14.0588)])]\n"
     ]
    }
   ],
   "source": [
    "print iterations"
   ]
  },
  {
   "cell_type": "code",
   "execution_count": 32,
   "metadata": {
    "collapsed": false
   },
   "outputs": [
    {
     "name": "stdout",
     "output_type": "stream",
     "text": [
      "[(500, 19.5388), (1000, 17.0664), (1500, 16.1264), (2000, 15.5436), (2500, 15.2011)]\n"
     ]
    }
   ],
   "source": [
    "print log_test1_iterations"
   ]
  },
  {
   "cell_type": "code",
   "execution_count": 33,
   "metadata": {
    "collapsed": true
   },
   "outputs": [],
   "source": [
    "import matplotlib.pyplot as plt"
   ]
  },
  {
   "cell_type": "code",
   "execution_count": 40,
   "metadata": {
    "collapsed": true
   },
   "outputs": [],
   "source": [
    "train_iterations, train_losses = zip(*log_train_iterations)\n",
    "test1_iterations, test1_losses = zip(*log_test1_iterations)\n",
    "test2_iterations, test2_losses = zip(*log_test2_iterations)"
   ]
  },
  {
   "cell_type": "code",
   "execution_count": 58,
   "metadata": {
    "collapsed": false
   },
   "outputs": [
    {
     "data": {
      "image/png": "[encoded data removed]",
      "text/plain": [
       "<matplotlib.figure.Figure at 0x6c60a58>"
      ]
     },
     "metadata": {},
     "output_type": "display_data"
    }
   ],
   "source": [
    "colors = ['r', 'b', 'g']\n",
    "\n",
    "max_iterations = []\n",
    "max_train_losses = []\n",
    "lines = []\n",
    "for index in range(len(iterations)):\n",
    "    train_iterations, train_losses = zip(*iterations[index][1])\n",
    "    line, = plt.plot(train_iterations, train_losses, colors[index], label=iterations[index][0])\n",
    "    lines.append(line)\n",
    "    max_iterations.append(max(train_iterations))\n",
    "    max_train_losses.append(max(train_losses))\n",
    "\n",
    "plt.legend(handles=lines)\n",
    "plt.axis([0, max(max_iterations) + 100, 0, max(max_train_losses) + 10])\n",
    "plt.show()"
   ]
  },
  {
   "cell_type": "code",
   "execution_count": 44,
   "metadata": {
    "collapsed": false
   },
   "outputs": [
    {
     "data": {
      "image/png": "[encoded data removed]",
      "text/plain": [
       "<matplotlib.figure.Figure at 0x392cf98>"
      ]
     },
     "metadata": {},
     "output_type": "display_data"
    }
   ],
   "source": [
    "plt.plot(train_iterations, train_losses, 'r')\n",
    "#plt.plot(test1_iterations, test1_losses, 'b')\n",
    "#plt.plot(test2_iterations, test2_losses, 'g')\n",
    "plt.axis([0, max(train_iterations) + 100, 0, max(train_losses) + 10])\n",
    "plt.show()"
   ]
  },
  {
   "cell_type": "code",
   "execution_count": null,
   "metadata": {
    "collapsed": true
   },
   "outputs": [],
   "source": []
  }
 ],
 "metadata": {
  "kernelspec": {
   "display_name": "Python 2",
   "language": "python",
   "name": "python2"
  },
  "language_info": {
   "codemirror_mode": {
    "name": "ipython",
    "version": 2
   },
   "file_extension": ".py",
   "mimetype": "text/x-python",
   "name": "python",
   "nbconvert_exporter": "python",
   "pygments_lexer": "ipython2",
   "version": "2.7.12"
  }
 },
 "nbformat": 4,
 "nbformat_minor": 1
}
