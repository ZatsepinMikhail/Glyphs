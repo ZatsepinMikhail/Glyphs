{
 "cells": [
  {
   "cell_type": "code",
   "execution_count": 4,
   "metadata": {
    "collapsed": true
   },
   "outputs": [],
   "source": [
    "import os"
   ]
  },
  {
   "cell_type": "code",
   "execution_count": 16,
   "metadata": {
    "collapsed": false
   },
   "outputs": [],
   "source": [
    "log_dir = 'logs\\\\'\n",
    "\n",
    "iterations = []\n",
    "\n",
    "iteration_string = 'Iteration'\n",
    "test1_string = 'Testing net (#0)'\n",
    "test2_string = 'Testing net (#1)'"
   ]
  },
  {
   "cell_type": "code",
   "execution_count": 27,
   "metadata": {
    "collapsed": false
   },
   "outputs": [],
   "source": [
    "for filename in os.listdir(log_dir):\n",
    "    log_train_iterations = []\n",
    "    log_test1_iterations = []\n",
    "    log_test2_iterations = []\n",
    "    with open(log_dir + filename, 'r') as log_file:\n",
    "        lines = log_file.readlines()\n",
    "        for line_index in range(0, len(lines), 4):\n",
    "            line = lines[line_index]\n",
    "            index_iteration = line.find(iteration_string)\n",
    "            \n",
    "            iteration = -1\n",
    "            if index_iteration != -1:\n",
    "                line_from_iterations = line[index_iteration + len(iteration_string) + 1:]\n",
    "                index_comma = line_from_iterations.find(',')\n",
    "                iteration = int(line_from_iterations[: index_comma])\n",
    "                \n",
    "                phase = line_from_iterations[index_comma + 2: -1]\n",
    "                \n",
    "                if phase == test1_string:\n",
    "                    line_with_loss = lines[line_index + 3]\n",
    "                    loss = float(line_with_loss[line_with_loss.find('=') + 2:-1])\n",
    "                    \n",
    "                    log_test1_iterations.append([iteration, loss])\n",
    "                    \n",
    "                elif phase == test2_string:\n",
    "                    line_with_loss = lines[line_index + 3]\n",
    "                    loss = float(line_with_loss[line_with_loss.find('=') + 2:-1])\n",
    "                    \n",
    "                    log_test2_iterations.append([iteration, loss])\n",
    "                else:\n",
    "                    line_with_loss = lines[line_index + 2]\n",
    "                    loss = float(line_with_loss[line_with_loss.find('=') + 2:-1])\n",
    "                    \n",
    "                    log_train_iterations.append([iteration, loss])\n",
    "            "
   ]
  },
  {
   "cell_type": "code",
   "execution_count": 28,
   "metadata": {
    "collapsed": false
   },
   "outputs": [
    {
     "name": "stdout",
     "output_type": "stream",
     "text": [
      "[[0, 59.8545], [100, 21.4574], [200, 21.5929], [300, 21.3886], [400, 21.1958], [500, 19.5639], [600, 18.733], [700, 18.9801], [800, 17.8896], [900, 16.8062], [1000, 16.9937], [1100, 16.3781], [1200, 16.0712], [1300, 16.9701], [1400, 16.0127], [1500, 16.1947], [1600, 15.8783], [1700, 15.6295], [1800, 15.3831], [1900, 15.4568], [2000, 15.2878], [2100, 15.7818], [2200, 14.7509], [2300, 15.2637], [2400, 15.3841]]\n"
     ]
    }
   ],
   "source": [
    "print log_train_iterations"
   ]
  },
  {
   "cell_type": "code",
   "execution_count": 29,
   "metadata": {
    "collapsed": false
   },
   "outputs": [
    {
     "name": "stdout",
     "output_type": "stream",
     "text": [
      "[[500, 19.5388], [1000, 17.0664], [1500, 16.1264], [2000, 15.5436], [2500, 15.2011]]\n"
     ]
    }
   ],
   "source": [
    "print log_test1_iterations"
   ]
  },
  {
   "cell_type": "code",
   "execution_count": null,
   "metadata": {
    "collapsed": true
   },
   "outputs": [],
   "source": []
  }
 ],
 "metadata": {
  "kernelspec": {
   "display_name": "Python 2",
   "language": "python",
   "name": "python2"
  },
  "language_info": {
   "codemirror_mode": {
    "name": "ipython",
    "version": 2
   },
   "file_extension": ".py",
   "mimetype": "text/x-python",
   "name": "python",
   "nbconvert_exporter": "python",
   "pygments_lexer": "ipython2",
   "version": "2.7.12"
  }
 },
 "nbformat": 4,
 "nbformat_minor": 1
}
